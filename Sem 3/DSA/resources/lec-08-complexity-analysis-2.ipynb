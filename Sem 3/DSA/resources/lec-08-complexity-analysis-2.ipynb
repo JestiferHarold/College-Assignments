{
 "cells": [
  {
   "cell_type": "code",
   "execution_count": 2,
   "id": "dd84d0ad",
   "metadata": {},
   "outputs": [
    {
     "name": "stdout",
     "output_type": "stream",
     "text": [
      "30\n"
     ]
    }
   ],
   "source": [
    "# Program: Accessing an element in an array\n",
    "\n",
    "def getElement(A, index):\n",
    "    return A[index]\n",
    "\n",
    "A = [10, 20, 30, 40, 50]\n",
    "print(getElement(A, 2)) "
   ]
  },
  {
   "cell_type": "markdown",
   "id": "45840930",
   "metadata": {},
   "source": [
    "`return A[index]`\n",
    "> In Python, lists are implemented as dynamic arrays, meaning that element access by index is a direct memory lookup. \\\n",
    "Retrieving an element from an array by index takes constant time in the worst case because Python lists provide $O(1)$ random access.\n",
    "\n",
    "\n",
    "`print(getElement(A, 2))`\n",
    ">The print function runs in $O(1)$ for simple integer outputs.\n",
    "\n",
    "**Final Complexity: $O(1)$**\n",
    "> The code executes in constant time, meaning its execution time does not depend on the size of the array. It will always take the same amount of time regardless of whether the array has 5 elements or 5 million elements.\n",
    "\n",
    "However, when you create a list, the list requires memory allocation for n elements. Each element needs to be assigned a value.\n",
    "This process scales linearly with the number of elements, hence **$O(n)$** complexity. "
   ]
  },
  {
   "cell_type": "code",
   "execution_count": 4,
   "id": "c230ec38",
   "metadata": {},
   "outputs": [
    {
     "name": "stdout",
     "output_type": "stream",
     "text": [
      "15\n"
     ]
    }
   ],
   "source": [
    "def sumArray(A):\n",
    "    total = 0\n",
    "    for num in A:\n",
    "        total += num\n",
    "    return total\n",
    "\n",
    "A = [1, 2, 3, 4, 5]\n",
    "print(sumArray(A))  "
   ]
  },
  {
   "cell_type": "markdown",
   "id": "ae976329",
   "metadata": {},
   "source": [
    "* Assigning `total = 0` takes $O(1$). $\\rightarrow Cost = 1$\n",
    "* Loop iterating over array:\n",
    "    * Runs $n$ times\n",
    "    * Each iteration involves `total += num`, which is $O(1)$.  $\\rightarrow Cost = 1$\n",
    "    * Total $Cost = n$\n",
    "* Returning the result (`return total`) takes $O(1)$ $\\rightarrow Cost = 1$\n",
    "\n",
    "Therefore $T(n)=1+n+1 = n+2$\n",
    "\n",
    "When analyzing complexity, we ignore constant terms (like $+2$) since they do not significantly impact growth as $n$ increases.\n",
    "\n",
    "Therefore $T(n) = n + 2 \\Rightarrow O(n)$"
   ]
  },
  {
   "cell_type": "code",
   "execution_count": 7,
   "id": "4063bb86",
   "metadata": {},
   "outputs": [
    {
     "name": "stdout",
     "output_type": "stream",
     "text": [
      "3\n"
     ]
    }
   ],
   "source": [
    "def binarySearch(A, target):\n",
    "    left, right = 0, len(A) - 1\n",
    "    while left <= right:\n",
    "        mid = (left + right) // 2\n",
    "        if A[mid] == target:\n",
    "            return mid\n",
    "        elif A[mid] < target:\n",
    "            left = mid + 1\n",
    "        else:\n",
    "            right = mid - 1\n",
    "    return -1\n",
    "\n",
    "A = [1, 3, 5, 7, 9, 11]\n",
    "print(binarySearch(A, 7))"
   ]
  },
  {
   "cell_type": "markdown",
   "id": "17f1fc78",
   "metadata": {},
   "source": [
    "* Cost: `left = 0` and `right = len(A) - 1` are constant-time operations $\\rightarrow O(1)$\n",
    "* while `left <= right`:\n",
    "    * The loop runs logarithmically. In each iteration, the search range is halved $\\rightarrow O(log n)$ iterations\n",
    "* `mid = (left + right) // 2` \n",
    "    * Computing mid is $O(1)$ since integer division is a constant-time operation.\n",
    "* `if arr[mid] == target:  return mid`\n",
    "    * Checking equality and returning mid are $O(1)$\n",
    "* `elif arr[mid] < target: left = mid + 1`\n",
    "    * $<$ operation and updating left take $O(1)$\n",
    "* `else: right = mid - 1`\n",
    "    * Updating right takes $O(1)$\n",
    "* `return -1` takes $O(1)$\n",
    "\n",
    "**Deriving $T(n)$**\n",
    "* Each iteration reduces the search space by half.\n",
    "* If we start with $n$ elements, the number of times we can halve $n$ before we reach 1 element is: **$T(n)=T(n/2)+O(1)$**\n",
    "> $T(n)$ is the time taken for an input of size $n$. \\\n",
    "$T(n/2)$: Since binary search halves the list, the next step operates on size $n/2$\\\n",
    "$O(1)$: The constant-time operations (calculating mid, checking A[mid], updating left and right).\n",
    "\n",
    "Expanding this by repeatedly applying the same formula:\n",
    "\n",
    "$T(n) = T(n/2)+O(1)$ \n",
    "\n",
    "$T(n/2) = T(n/4)+O(1)$ \n",
    "\n",
    "$T(n/4) = T(n/8)+O(1)$ \n",
    "\n",
    "and so on..\n",
    "\n",
    "**How Many Times Does the Loop Run?**\n",
    "\n",
    "Since the search range halves in each step, the number of times we can halve $n$ before reaching 1 element is: $n,\\frac{n}{2},\\frac{n}{4},\\frac{n}{8}, \\ldots$\n",
    "\n",
    "We stop when we reach 1 element, which happens when: $\\frac{n}{{{2^k}}} = 1$\n",
    "\n",
    "Solving for $k$:\n",
    "* $n=2^k$\n",
    "* $k=log_2n$\n",
    "\n",
    "Thus, the number of times we repeat the process is $O(logn)$\n",
    "\n",
    "At each step, we perform a constant amount of work $O(1)$, and there are $logn$ such steps\n",
    "\n",
    "$T(n)=O(1)+O(1)+\\dots+O(1)$ $\\rightarrow logn$ times\n",
    "\n",
    "So,  $T(n)=O(logn)+O(1)$ and hence the complexity is $O(logn)$"
   ]
  },
  {
   "cell_type": "code",
   "execution_count": 8,
   "id": "595d2cbd",
   "metadata": {},
   "outputs": [
    {
     "name": "stdout",
     "output_type": "stream",
     "text": [
      "Duplicate found: 1\n",
      "Duplicate found: 2\n"
     ]
    }
   ],
   "source": [
    "def findDuplicatePairs(A):\n",
    "    for i in range(len(A)):\n",
    "        for j in range(i + 1, len(A)):\n",
    "            if A[i] == A[j]:\n",
    "                print(f\"Duplicate found: {A[i]}\")\n",
    "\n",
    "A = [1, 2, 3, 2, 4, 5, 1]\n",
    "findDuplicatePairs(A)"
   ]
  },
  {
   "cell_type": "markdown",
   "id": "69d996d1",
   "metadata": {},
   "source": [
    "Outer Loop (`for i in range(len(A))`)\n",
    "* The outer loop runs from `i = 0 to i = len(A) - 1`, which means it iterates $n$ times, where $n$ is the length of the array\n",
    "\n",
    "Inner Loop (`for j in range(i + 1, len(A))`)\n",
    "* For each iteration of the outer loop, the inner loop starts at `j = i + 1` and goes until `j = len(A) - 1`. This means the number of iterations of the inner loop depends on the value of `i`\n",
    "    * When `i = 0`, `j` runs from 1 to n-1 $\\rightarrow$ n - 1 iterations.\n",
    "    * When `i = 1`, `j` runs from 2 to n-1 $\\rightarrow$ n - 2 iterations.\n",
    "    * When `i = 2`, `j` runs from 3 to n-1 $\\rightarrow$ n - 3 iterations.\n",
    "    * and so on...\n",
    "* The total number of iterations of the inner loop across all iterations of the outer loop is: $(n-1)+(n-2)+(n-3)+\\dots +1=\n",
    "\\frac{n(n-1)}{2} = \\frac{n^2-n}{2}=\\frac{n^2}{2}-\\frac{n}{2}$\n",
    "* Therefore, the complexity is $O(n^2)$\n",
    "\n",
    "Constant-Time Operations\n",
    "* Inside the inner loop, the comparison` A[i] == A[j]` is a constant-time operation ($O(1)$). The print statement is also considered a constant-time operation in this analysis ($O(1)$).\n",
    "\n",
    "Total complexity\n",
    "* Outer loop: $O(n)$\n",
    "* Inner loop: $O(n)$ per iteration of the outer loop\n",
    "    * Total $O(n^2)$ for loop\n",
    "* Comparison: $O(1)$ per iteration\n",
    "* Print: $O(1)$ per iteration\n",
    "* Overall Complexity: $O(n^2)$\n",
    "\n",
    "$T(n)=Cost(outerloop) + Cost(inner loop) + Cost(operations-inside-inner-loop)$ \n",
    "\n",
    "$T(n)=O(n)+O(n^2)+O(1)$\n",
    "\n",
    "Since $O(n^2)$ dominates $O(n)$, the overall complexity is $O(n^2)$"
   ]
  },
  {
   "cell_type": "code",
   "execution_count": 18,
   "id": "752f3eb4",
   "metadata": {},
   "outputs": [
    {
     "name": "stdout",
     "output_type": "stream",
     "text": [
      "5\n"
     ]
    }
   ],
   "source": [
    "def fibonacci(n):\n",
    "    if n <= 1:\n",
    "        return n\n",
    "    return fibonacci(n-1) + fibonacci(n-2)\n",
    "\n",
    "print(fibonacci(5)) "
   ]
  },
  {
   "cell_type": "markdown",
   "id": "edc6b4c6",
   "metadata": {},
   "source": [
    "**Recurisve calls**\n",
    "\n",
    "* For any value of $n$, the recurisve function `fibonacci()` calls itself twice\n",
    "    1. `fibonacci(n-1)`\n",
    "    2. `fibonacci(n-2)`\n",
    "    \n",
    "This recursive structure leads to a binary tree of recursive calls, where each node (representing a function call) branches into two child nodes (representing the two recursive calls).\n",
    "* Base Case: If  $n\\le 1$, the function returns $n$ directly without making further recursive calls.\n",
    "* Recursive Case: For $n>1$, the function computes the result by adding the results of `fibonacci(n-1)` and `fibonacci(n-2)`\n",
    "\n",
    "For complexity analysis\n",
    "* Base case: $T(0)=T(1)=O(1)$ because these calls simply return a value without further recursion. \n",
    "* Recursive case: For $n>1$, the function makes two recursive calls\n",
    "    * $T(n)=T(n-1)+T(n-2)+O(1)$\n",
    "    * $O(1)$ accounts for the addition of the two results.\n",
    "* Thus the complexity of fibonacci function is $T(n)=T(n-1)+T(n-2)+O(1)$\n",
    "\n",
    "The recurrence relation $T(n)=T(n-1)+T(n-2)+O(1)$  is very similar to the definition of the Fibonacci sequence itself.\n",
    "\n",
    "For simplicity, we first analyze the homogeneous part (ignoring the constant term $O(1)$).\n",
    "\n",
    "$T(n)=T(n-1)+T(n-2)$\n",
    "\n",
    "Assume a solution of the form $T(n)=r^n$, where $r$ is a constant to be determined.\n",
    "\n",
    "Substitute $T(n)=r^n$, $T(n-1)=r^{n-1}$ and $T(n-2)=r^{n-2}$ into $T(n)=T(n-1)+T(n-2)$\n",
    "\n",
    "$r^n=r^{n-1}+r^{n-2}$\n",
    "\n",
    "Divide both sides by $r^{n-2}$ (assuming $r\\ne 0$)\n",
    "\n",
    "$r^2=r+1$\n",
    "\n",
    "Therefore, the characteristic equation is $r^2-r-1=0$\n",
    "\n",
    "Solve the quadratic equation $r^2-r-1=0$ using the quadratic formula:\n",
    "\n",
    "$r = \\frac{{1 \\pm \\sqrt {1 + 4} }}{2} = \\frac{{1 \\pm \\sqrt 5 }}{2}$\n",
    "\n",
    "Therefore, the roots are, ${r_1} = \\frac{{1 + \\sqrt 5 }}{2},{r_2} = \\frac{{1 - \\sqrt 5 }}{2}$\n",
    "\n",
    "The general solution to the homogeneous recurrence is a linear combination of the roots\n",
    "\n",
    "$T(n) = A \\cdot {\\phi ^n} + B \\cdot {\\psi ^n}$, where $A$ and $B$ are constants determined by initial conditions (e.g: $T(0)$ and $T(1)$)\n",
    "\n",
    "Since $\\left| \\psi  \\right| < 1$ ($r_2<1$) the term $B \\cdot {\\psi ^n}$ vanishes exponentially as $n \\to \\infty$. Thus, for large $n$ $T(n) \\approx A \\cdot {\\phi ^n}$.\n",
    "\n",
    "This gives the asymptotic time complexity $T(n)=O(1.618^n) \\approx O(2^n)$\n",
    "\n",
    "\n",
    "<img src=images/fibo.jpg width=\"800\" height=\"800\">\n",
    "\n",
    "\n",
    "\n",
    "**Another explanation**\n",
    "\n",
    "* Level 0 (Root): 1 call: fibonacci(n)\n",
    "* Level 1:2 calls: fibonacci(n-1) and fibonacci(n-2)\n",
    "* Level 2:4 calls: fibonacci(n-2), fibonacci(n-3), fibonacci(n-3), fibonacci(n-4)\n",
    "* Level k: $2^k$  calls\n",
    "\n",
    "\n",
    "* Height of the tree: 𝑛 because each level reduces the argument by 1\n",
    "* Total Number of Calls: sum of nodes at all levels of the tree\n",
    "\n",
    "$T(n)=1+2+4+\\dots +2^n$\n",
    "\n",
    "*  Sum of the first $n$ terms of a geometric series where the first term $a=1$ and the common ratio $r=2$\n",
    "\n",
    "$\\begin{array}{l}\n",
    "T(n) = 1 + 2 + 4 +  \\ldots  + {2^n}\\\\\n",
    "S = \\frac{{{r^{n + 1}} - 1}}{{r - 1}} = \\frac{{{2^{n + 1}} - 1}}{{2 - 1}} = {2^{n + 1}} - 1\\\\\n",
    "T(n) = O\\left( {{2^n}} \\right)\n",
    "\\end{array}$"
   ]
  },
  {
   "cell_type": "code",
   "execution_count": null,
   "id": "1b3c1fc0",
   "metadata": {},
   "outputs": [],
   "source": [
    "# O(3^n) \n",
    "def expo(n):\n",
    "    if n <= 1:\n",
    "        return n\n",
    "    return expo(n-1) + expo(n-2) + expo(n-3)\n"
   ]
  },
  {
   "cell_type": "code",
   "execution_count": 21,
   "id": "bf877859",
   "metadata": {},
   "outputs": [],
   "source": [
    "#Compute the complexity of the following functions\n",
    "\n",
    "def bubbleSort(A):\n",
    "    n = len(A)\n",
    "    for i in range(n):\n",
    "        for j in range(n - i - 1):\n",
    "            if A[j] > A[j + 1]:\n",
    "                A[j], A[j + 1] = A[j + 1], A[j]\n",
    "\n",
    "def selectionSort(A):\n",
    "    n = len(A)\n",
    "    for i in range(n):\n",
    "        min_index = i\n",
    "        for j in range(i + 1, n):\n",
    "            if A[j] < A[min_index]:\n",
    "                min_index = j\n",
    "        A[i], A[min_index] = A[min_index], A[i]\n",
    "\n",
    "def insertionSort(A):\n",
    "    n = len(A)\n",
    "    for i in range(1, n):\n",
    "        key = A[i]\n",
    "        j = i - 1\n",
    "        while j >= 0 and A[j] > key:\n",
    "            A[j + 1] = A[j]\n",
    "            j -= 1\n",
    "        A[j + 1] = key"
   ]
  },
  {
   "cell_type": "code",
   "execution_count": 5,
   "id": "5bf239e8",
   "metadata": {},
   "outputs": [
    {
     "name": "stdout",
     "output_type": "stream",
     "text": [
      "Generated 27 strings of length 3 using characters 'abc'\n",
      "First 10 results: ['aaa', 'aab', 'aac', 'aba', 'abb', 'abc', 'aca', 'acb', 'acc', 'baa']\n"
     ]
    }
   ],
   "source": [
    "#O(c^n)\n",
    "def generateAllStrings(chars, length):\n",
    "    if length == 0:\n",
    "        return ['']\n",
    "\n",
    "    result = []\n",
    "    shorterStrings = generateAllStrings(chars, length - 1)\n",
    "    \n",
    "    for string in shorterStrings:\n",
    "        for char in chars:\n",
    "            result.append(string + char)\n",
    "    \n",
    "    return result\n",
    "\n",
    "def main():\n",
    "    chars = 'abc'\n",
    "    n = 3\n",
    "    result = generateAllStrings(chars, n)\n",
    "    print(f\"Generated {len(result)} strings of length {n} using characters '{chars}'\")\n",
    "    print(\"First 10 results:\", result[:10])\n",
    "\n",
    "if __name__ == \"__main__\":\n",
    "    main()"
   ]
  },
  {
   "cell_type": "code",
   "execution_count": 7,
   "id": "341b2a85",
   "metadata": {},
   "outputs": [
    {
     "name": "stdout",
     "output_type": "stream",
     "text": [
      "0000\n",
      "0001\n",
      "0002\n",
      "0010\n",
      "0011\n",
      "0012\n",
      "0020\n",
      "0021\n",
      "0022\n",
      "0100\n",
      "0101\n",
      "0102\n",
      "0110\n",
      "0111\n",
      "0112\n",
      "0120\n",
      "0121\n",
      "0122\n",
      "0200\n",
      "0201\n",
      "0202\n",
      "0210\n",
      "0211\n",
      "0212\n",
      "0220\n",
      "0221\n",
      "0222\n",
      "1000\n",
      "1001\n",
      "1002\n",
      "1010\n",
      "1011\n",
      "1012\n",
      "1020\n",
      "1021\n",
      "1022\n",
      "1100\n",
      "1101\n",
      "1102\n",
      "1110\n",
      "1111\n",
      "1112\n",
      "1120\n",
      "1121\n",
      "1122\n",
      "1200\n",
      "1201\n",
      "1202\n",
      "1210\n",
      "1211\n",
      "1212\n",
      "1220\n",
      "1221\n",
      "1222\n",
      "2000\n",
      "2001\n",
      "2002\n",
      "2010\n",
      "2011\n",
      "2012\n",
      "2020\n",
      "2021\n",
      "2022\n",
      "2100\n",
      "2101\n",
      "2102\n",
      "2110\n",
      "2111\n",
      "2112\n",
      "2120\n",
      "2121\n",
      "2122\n",
      "2200\n",
      "2201\n",
      "2202\n",
      "2210\n",
      "2211\n",
      "2212\n",
      "2220\n",
      "2221\n",
      "2222\n"
     ]
    }
   ],
   "source": [
    "#O(3^n)\n",
    "def generateTernaryStrings(n, current=\"\"):\n",
    "    if n == 0:\n",
    "        print(current)\n",
    "        return\n",
    "    for digit in \"012\":\n",
    "        generateTernaryStrings(n - 1, current + digit)\n",
    "\n",
    "generateTernaryStrings(4) "
   ]
  },
  {
   "cell_type": "code",
   "execution_count": 4,
   "id": "33845f3b",
   "metadata": {},
   "outputs": [
    {
     "name": "stdout",
     "output_type": "stream",
     "text": [
      "2^10 = 1024\n"
     ]
    }
   ],
   "source": [
    "#O(logn)\n",
    "def power(a, b):\n",
    "    if b == 0:\n",
    "        return 1  \n",
    "    half = power(a, b // 2) \n",
    "    if b % 2 == 0:\n",
    "        return half * half  \n",
    "    else:\n",
    "        return half * half * a  \n",
    "\n",
    "a, b = 2, 10\n",
    "print(f\"{a}^{b} =\", power(a, b))  "
   ]
  },
  {
   "cell_type": "code",
   "execution_count": 1,
   "id": "7d7c0e13",
   "metadata": {},
   "outputs": [],
   "source": [
    "# O(n^3) \n",
    "def cubic_function(n):\n",
    "    count = 0\n",
    "    for i in range(n):\n",
    "        for j in range(n):\n",
    "            for k in range(n):\n",
    "                count += 1\n",
    "    return count"
   ]
  },
  {
   "cell_type": "code",
   "execution_count": 2,
   "id": "552be136",
   "metadata": {},
   "outputs": [],
   "source": [
    "# O(n log n) \n",
    "def quick_sort(arr):\n",
    "    if len(arr) <= 1:\n",
    "        return arr\n",
    "    pivot = arr[len(arr) // 2]\n",
    "    left = [x for x in arr if x < pivot]\n",
    "    middle = [x for x in arr if x == pivot]\n",
    "    right = [x for x in arr if x > pivot]\n",
    "    return quick_sort(left) + middle + quick_sort(right)"
   ]
  },
  {
   "cell_type": "code",
   "execution_count": 3,
   "id": "b9bf58f7",
   "metadata": {},
   "outputs": [],
   "source": [
    "# O(log n) \n",
    "def logarithmic_iteration(n):\n",
    "    count = 0\n",
    "    while n > 1:\n",
    "        n //= 2\n",
    "        count += 1\n",
    "    return count"
   ]
  },
  {
   "cell_type": "code",
   "execution_count": 4,
   "id": "1f630631",
   "metadata": {},
   "outputs": [],
   "source": [
    "# O(n)\n",
    "def prefix_sum(arr):\n",
    "    prefix_sums = [0] * (len(arr) + 1)\n",
    "    for i in range(len(arr)):\n",
    "        prefix_sums[i + 1] = prefix_sums[i] + arr[i]\n",
    "    return prefix_sums"
   ]
  },
  {
   "cell_type": "code",
   "execution_count": 5,
   "id": "e72b4f4b",
   "metadata": {},
   "outputs": [],
   "source": [
    "# O(sqrt(n)) \n",
    "def countDivisors(n):\n",
    "    count = 0\n",
    "    for i in range(1, int(math.sqrt(n)) + 1):\n",
    "        if n % i == 0:\n",
    "            count += 1 if i * i == n else 2\n",
    "    return count\n",
    "\n",
    "\n",
    "\n"
   ]
  },
  {
   "cell_type": "code",
   "execution_count": 11,
   "id": "6ed337d7",
   "metadata": {},
   "outputs": [
    {
     "data": {
      "image/png": "[encoded data removed]",
      "text/plain": [
       "<Figure size 1000x600 with 1 Axes>"
      ]
     },
     "metadata": {},
     "output_type": "display_data"
    }
   ],
   "source": [
    "import matplotlib.pyplot as plt\n",
    "import numpy as np\n",
    "\n",
    "def plotFns(n):\n",
    "    x = np.arange(1, n+1)\n",
    "    y1 = x\n",
    "    y2 = np.sqrt(x)\n",
    "    plt.figure(figsize=(10, 6))\n",
    "    plt.plot(x, y1, label=\"n\", color='blue')\n",
    "    plt.plot(x, y2, label=\"n^(1/2)\", color='red')\n",
    "    plt.xlabel('n')\n",
    "    plt.ylabel('T(n)')\n",
    "    plt.title(f'Plot of n and n^(1/2) for first {n} integers')\n",
    "    plt.legend()\n",
    "    plt.grid(True)\n",
    "    plt.show()\n",
    "\n",
    "plotFns(100000)"
   ]
  },
  {
   "cell_type": "code",
   "execution_count": 6,
   "id": "407be199",
   "metadata": {},
   "outputs": [],
   "source": [
    "# O(n!) \n",
    "def permutations(string, step=0):\n",
    "    if step == len(string):\n",
    "        return [\"\".join(string)]\n",
    "    result = []\n",
    "    for i in range(step, len(string)):\n",
    "        string_copy = [c for c in string]\n",
    "        string_copy[step], string_copy[i] = string_copy[i], string_copy[step]\n",
    "        result.extend(permutations(string_copy, step + 1))\n",
    "    return result\n",
    "\n",
    "\n",
    "\n",
    "\n",
    "\n"
   ]
  },
  {
   "cell_type": "code",
   "execution_count": 7,
   "id": "175eea9e",
   "metadata": {},
   "outputs": [],
   "source": [
    "# O(n^4) \n",
    "def quadruple_loop(n):\n",
    "    count = 0\n",
    "    for i in range(n):\n",
    "        for j in range(n):\n",
    "            for k in range(n):\n",
    "                for l in range(n):\n",
    "                    count += 1\n",
    "    return count"
   ]
  },
  {
   "cell_type": "code",
   "execution_count": 14,
   "id": "82965288",
   "metadata": {},
   "outputs": [],
   "source": [
    "# O(3^n) \n",
    "def expo(n):\n",
    "    if n <= 1:\n",
    "        return n\n",
    "    return expo(n-1) + expo(n-2) + expo(n-3)\n",
    "\n",
    "\n"
   ]
  },
  {
   "cell_type": "code",
   "execution_count": 9,
   "id": "b95a61b1",
   "metadata": {},
   "outputs": [],
   "source": [
    "# O(2^n) \n",
    "def power_set(arr):\n",
    "    result = [[]]\n",
    "    for elem in arr:\n",
    "        result.extend([subset + [elem] for subset in result])\n",
    "    return result"
   ]
  },
  {
   "cell_type": "code",
   "execution_count": null,
   "id": "0afc11ba",
   "metadata": {},
   "outputs": [],
   "source": []
  }
 ],
 "metadata": {
  "kernelspec": {
   "display_name": "Python 3 (ipykernel)",
   "language": "python",
   "name": "python3"
  },
  "language_info": {
   "codemirror_mode": {
    "name": "ipython",
    "version": 3
   },
   "file_extension": ".py",
   "mimetype": "text/x-python",
   "name": "python",
   "nbconvert_exporter": "python",
   "pygments_lexer": "ipython3",
   "version": "3.11.1"
  }
 },
 "nbformat": 4,
 "nbformat_minor": 5
}
