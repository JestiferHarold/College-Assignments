{
 "cells": [
  {
   "cell_type": "markdown",
   "id": "a82e7180",
   "metadata": {},
   "source": [
    "Reference: \n",
    "1. A Byte of Python by Swaroopch\n",
    "2. Automate the Boring Stuff with Python by Al Sweigart\n",
    "3. Beyond the Basic Stuff with Python by Al Sweigart\n",
    "\n",
    "Python is one of those rare languages which can claim to be both simple and powerful. You will find yourself pleasantly surprised to see how easy it is to concentrate on the solution to the problem rather than the syntax and structure of the language you are programming in.\n",
    "\n",
    "<img src=images/python1.png width=\"300\" height=\"300\">\n",
    "\n",
    "## Features of Python\n",
    "### Simple\n",
    "Python is a simple and minimalistic language. Reading a good Python program feels almost like reading English, although very strict English! This pseudo-code nature of Python is one of its greatest strengths. It allows you to concentrate on the solution to the problem rather than the language itself.\n",
    "### Easy to Learn\n",
    "As you will see, Python is extremely easy to get started with. Python has an extraordinarily simple syntax, as already mentioned.\n",
    "### Free and Open Source\n",
    "Python is an example of a FLOSS (Free/Libre and Open Source Software). In simple terms, you can freely distribute copies of this software, read its source code, make changes to it, and use pieces of it in new free programs. FLOSS is based on the concept of a community which shares knowledge. This is one of the reasons why Python is so good - it has been created and is constantly improved by a community who just want to see a better Python.\n",
    "### High-level Language\n",
    "When you write programs in Python, you never need to bother about the low-level details such as managing the memory used by your program, etc.\n",
    "### Portable\n",
    "Due to its open-source nature, Python has been ported to (i.e. changed to make it work on) many platforms. All your Python programs can work on any of these platforms without requiring any changes at all if you are careful enough to avoid any system-dependent features.\n",
    "\n",
    "You can use Python on GNU/Linux, Windows, FreeBSD, Macintosh, Solaris, OS/2, Amiga, AROS, AS/400, BeOS, OS/390, z/OS, Palm OS, QNX, VMS, Psion, Acorn RISC OS, VxWorks, PlayStation, Sharp Zaurus, Windows CE and PocketPC!\n",
    "\n",
    "You can even use a platform like Kivy to create games for your computer and for iPhone, iPad, and Android.\n",
    "\n",
    "### Interpreted\n",
    "A program written in a compiled language like C or C++ is converted from the source language i.e. C or C++ into a language that is spoken by your computer (binary code i.e. 0s and 1s) using a compiler with various flags and options. When you run the program, the linker/loader software copies the program from hard disk to memory and starts running it.\n",
    "\n",
    "Python, on the other hand, does not need compilation to binary. You just run the program directly from the source code. Internally, Python converts the source code into an intermediate form called bytecodes and then translates this into the native language of your computer and then runs it. All this, actually, makes using Python much easier since you don't have to worry about compiling the program, making sure that the proper libraries are linked and loaded, etc. This also makes your Python programs much more portable, since you can just copy your Python program onto another computer and it just works!\n",
    "\n",
    "### Object Oriented\n",
    "Python supports procedure-oriented programming as well as object-oriented programming (OOP). In procedure-oriented languages, the program is built around procedures or functions which are nothing but reusable pieces of programs. In object-oriented languages, the program is built around objects which combine data and functionality. Python has a very powerful but simplistic way of doing OOP, especially when compared to big languages like C++ or Java.\n",
    "\n",
    "### Extensible\n",
    "If you need a critical piece of code to run very fast or want to have some piece of algorithm not to be open, you can code that part of your program in C or C++ and then use it from your Python program.\n",
    "\n",
    "### Embeddable\n",
    "You can embed Python within your C/C++ programs to give scripting capabilities for your program's users.\n",
    "\n",
    "### Extensive Libraries\n",
    "The Python Standard Library is huge indeed. It can help you do various things involving regular expressions,documentation generation, unit testing, threading, databases, web browsers, CGI, FTP, email, XML, XML-RPC, HTML, WAV files, cryptography, GUI (graphical user interfaces), and other system-dependent stuff. Remember, all this is always available wherever Python is installed. This is called the Batteries Included philosophy of Python.\n",
    "\n",
    "### First Steps\n",
    "We will now see how to run a traditional 'Hello World' program in Python. \n",
    "\n",
    "There are three ways of using Python to run your program - using the interactive interpreter prompt or using a source file or using an IDE (Integrated Development Environment)"
   ]
  },
  {
   "cell_type": "code",
   "execution_count": 4,
   "id": "4efd5f9c",
   "metadata": {},
   "outputs": [
    {
     "ename": "SyntaxError",
     "evalue": "unterminated string literal (detected at line 1) (1762878097.py, line 1)",
     "output_type": "error",
     "traceback": [
      "\u001b[1;36m  Cell \u001b[1;32mIn[4], line 1\u001b[1;36m\u001b[0m\n\u001b[1;33m    print('hello world\")\u001b[0m\n\u001b[1;37m          ^\u001b[0m\n\u001b[1;31mSyntaxError\u001b[0m\u001b[1;31m:\u001b[0m unterminated string literal (detected at line 1)\n"
     ]
    }
   ],
   "source": [
    "print('hello world\")"
   ]
  },
  {
   "cell_type": "markdown",
   "id": "634a4407",
   "metadata": {},
   "source": [
    "### Getting Help\n",
    "If you need quick information about any function or statement in Python, then you can use the built-in help functionality. This is very useful especially when using the interpreter prompt. For example, run help('len') - this displays the help for the len function which is used to count number of items."
   ]
  },
  {
   "cell_type": "code",
   "execution_count": 2,
   "id": "2a1efb3c",
   "metadata": {},
   "outputs": [
    {
     "name": "stdout",
     "output_type": "stream",
     "text": [
      "Help on built-in function len in module builtins:\n",
      "\n",
      "len(obj, /)\n",
      "    Return the number of items in a container.\n",
      "\n"
     ]
    }
   ],
   "source": [
    "help('len')"
   ]
  },
  {
   "cell_type": "markdown",
   "id": "1af5351f",
   "metadata": {},
   "source": [
    "Similarly, you can obtain information about almost anything in Python. Use help() to learn more about using help itself!\n",
    "\n",
    "In case you need to get help for operators like return, then you need to put those inside quotes such as help('return') so that Python doesn't get confused on what we're trying to do."
   ]
  },
  {
   "cell_type": "code",
   "execution_count": 5,
   "id": "4c01fb40",
   "metadata": {},
   "outputs": [
    {
     "name": "stdout",
     "output_type": "stream",
     "text": [
      "\n",
      "Welcome to Python 3.11's help utility!\n",
      "\n",
      "If this is your first time using Python, you should definitely check out\n",
      "the tutorial on the internet at https://docs.python.org/3.11/tutorial/.\n",
      "\n",
      "Enter the name of any module, keyword, or topic to get help on writing\n",
      "Python programs and using Python modules.  To quit this help utility and\n",
      "return to the interpreter, just type \"quit\".\n",
      "\n",
      "To get a list of available modules, keywords, symbols, or topics, type\n",
      "\"modules\", \"keywords\", \"symbols\", or \"topics\".  Each module also comes\n",
      "with a one-line summary of what it does; to list the modules whose name\n",
      "or summary contain a given string such as \"spam\", type \"modules spam\".\n",
      "\n",
      "help> len\n",
      "Help on built-in function len in module builtins:\n",
      "\n",
      "len(obj, /)\n",
      "    Return the number of items in a container.\n",
      "\n",
      "help> q\n",
      "\n",
      "You are now leaving help and returning to the Python interpreter.\n",
      "If you want to ask for help on a particular object directly from the\n",
      "interpreter, you can type \"help(object)\".  Executing \"help('string')\"\n",
      "has the same effect as typing a particular string at the help> prompt.\n"
     ]
    }
   ],
   "source": [
    "help()"
   ]
  },
  {
   "cell_type": "markdown",
   "id": "3c0253c8",
   "metadata": {},
   "source": [
    "## Basics\n",
    "### Comments\n",
    "Comments are any text to the right of the # symbol and is mainly useful as notes for the reader of the program."
   ]
  },
  {
   "cell_type": "code",
   "execution_count": 4,
   "id": "c9b3b575",
   "metadata": {},
   "outputs": [
    {
     "name": "stdout",
     "output_type": "stream",
     "text": [
      "hello world\n"
     ]
    }
   ],
   "source": [
    "print('hello world') # Note that print is a function"
   ]
  },
  {
   "cell_type": "code",
   "execution_count": 5,
   "id": "5cfb369f",
   "metadata": {},
   "outputs": [
    {
     "name": "stdout",
     "output_type": "stream",
     "text": [
      "hello world\n"
     ]
    }
   ],
   "source": [
    "# Note that print is a function\n",
    "print('hello world')"
   ]
  },
  {
   "cell_type": "markdown",
   "id": "69918a4d",
   "metadata": {},
   "source": [
    "Use as many useful comments as you can in your program to:\n",
    "* explain assumptions\n",
    "* explain important decisions\n",
    "* explain important details\n",
    "* explain problems you're trying to solve\n",
    "* explain problems you're trying to overcome in your program, etc."
   ]
  },
  {
   "cell_type": "markdown",
   "id": "2551e55a",
   "metadata": {},
   "source": [
    "### Literal Constants\n",
    "An example of a literal constant is a number like 5, 1.23, or a string like 'This is a string' or \"It's a string!\".\n",
    "\n",
    "It is called a literal because it is literal - you use its value literally. The number 2 always represents itself and nothing else - it is a constant because its value cannot be changed. Hence, all these are referred to as literal constants.\n",
    "\n",
    "#### Numbers\n",
    "Numbers are mainly of two types - integers and floats.\n",
    "\n",
    "An example of an integer is 2 which is just a whole number.\n",
    "\n",
    "Examples of floating point numbers (or floats for short) are 3.23 and 52.3E-4. The E notation indicates powers of 10. In this case, 52.3E-4 means 52.3 * 10^-4.\n",
    "\n",
    "#### Strings\n",
    "A string is a sequence of characters. Strings are basically just a bunch of words.\n",
    "\n",
    "**Single Quote**\\\n",
    "You can specify strings using single quotes such as 'Quote me on this'.\n",
    "\n",
    "All white space i.e. spaces and tabs, within the quotes, are preserved as-is.\n",
    "\n",
    "**Double Quotes**\\\n",
    "Strings in double quotes work exactly the same way as strings in single quotes. An example is \"What's your name?\".\n",
    "\n",
    "**Triple Quotes**\\\n",
    "You can specify multi-line strings using triple quotes - (\"\"\" or '''). You can use single quotes and double quotes freely within the triple quotes. "
   ]
  },
  {
   "cell_type": "code",
   "execution_count": 6,
   "id": "1b90a53f",
   "metadata": {},
   "outputs": [
    {
     "name": "stdout",
     "output_type": "stream",
     "text": [
      "Quote me on this\n"
     ]
    }
   ],
   "source": [
    "print('Quote me on this')"
   ]
  },
  {
   "cell_type": "code",
   "execution_count": 8,
   "id": "59bbb631",
   "metadata": {},
   "outputs": [
    {
     "name": "stdout",
     "output_type": "stream",
     "text": [
      "What is your name?\n"
     ]
    }
   ],
   "source": [
    "print(\"What is your name?\")"
   ]
  },
  {
   "cell_type": "code",
   "execution_count": 9,
   "id": "ae91716d",
   "metadata": {},
   "outputs": [
    {
     "data": {
      "text/plain": [
       "'This is a multi-line string. This is the first line.\\nThis is the second line.\\n\"What\\'s your name?,\" I asked.\\nHe said \"Bond, James Bond.\"\\n'"
      ]
     },
     "execution_count": 9,
     "metadata": {},
     "output_type": "execute_result"
    }
   ],
   "source": [
    "'''This is a multi-line string. This is the first line.\n",
    "This is the second line.\n",
    "\"What's your name?,\" I asked.\n",
    "He said \"Bond, James Bond.\"\n",
    "'''"
   ]
  },
  {
   "cell_type": "markdown",
   "id": "d3fc1e7c",
   "metadata": {},
   "source": [
    "**Strings Are Immutable**\\\n",
    "This means that once you have created a string, you cannot change it. Although this might seem like a bad thing, it really isn't. "
   ]
  },
  {
   "cell_type": "code",
   "execution_count": 2,
   "id": "aa62f9c7",
   "metadata": {},
   "outputs": [
    {
     "name": "stdout",
     "output_type": "stream",
     "text": [
      "Hello\n",
      "World\n"
     ]
    }
   ],
   "source": [
    "my_string = \"Hello\"\n",
    "print(my_string)\n",
    "my_string = \"World\"  # Creates a new string object\n",
    "print(my_string)"
   ]
  },
  {
   "cell_type": "markdown",
   "id": "46910015",
   "metadata": {},
   "source": [
    "Think of a string as a box of letters. When you first create the string my_string = \"Hello\", you're filling a box with the letters H, e, l, l, and o.\n",
    "\n",
    "Now, when you write my_string = \"World\", you're not changing the letters inside the original box. Instead, you're creating a new box and filling it with the letters W, o, r, l, and d.\n",
    "\n",
    "The old box with \"Hello\" still exists somewhere in the computer's memory, but your variable my_string now points to the new box with \"World\"."
   ]
  },
  {
   "cell_type": "markdown",
   "id": "6648c997",
   "metadata": {},
   "source": [
    "**The format method**\\\n",
    "Sometimes we may want to construct strings from other information. This is where the format() method is useful."
   ]
  },
  {
   "cell_type": "code",
   "execution_count": 1,
   "id": "67079d33",
   "metadata": {},
   "outputs": [
    {
     "name": "stdout",
     "output_type": "stream",
     "text": [
      "Premjith joined Amrita as a faculty in 2020\n",
      "Why is Premjith playing with that python?\n"
     ]
    }
   ],
   "source": [
    "year = 2020\n",
    "name = 'Premjith'\n",
    "\n",
    "print('{0} joined Amrita as a faculty in {1}'.format(name, year))\n",
    "print('Why is {0} playing with that python?'.format(name))"
   ]
  },
  {
   "cell_type": "code",
   "execution_count": 6,
   "id": "9f73e518",
   "metadata": {},
   "outputs": [
    {
     "name": "stdout",
     "output_type": "stream",
     "text": [
      "Premjith joined Amrita as a faculty in 2020\n",
      "Why is Premjith playing with that python?\n"
     ]
    }
   ],
   "source": [
    "year = 2020\n",
    "name = 'Premjith'\n",
    "\n",
    "print('{} joined Amrita as a faculty in {}'.format(name, year))\n",
    "print('Why is {} playing with that python?'.format(name))"
   ]
  },
  {
   "cell_type": "code",
   "execution_count": 7,
   "id": "440bc115",
   "metadata": {},
   "outputs": [
    {
     "name": "stdout",
     "output_type": "stream",
     "text": [
      "Premjith joined Amrita as a faculty in 2020\n",
      "Why is Premjith playing with that python?\n"
     ]
    }
   ],
   "source": [
    "year = 2020\n",
    "name = 'Premjith'\n",
    "\n",
    "print('{name} joined Amrita as a faculty in {year}'.format(name=name, year=year))\n",
    "print('Why is {name} playing with that python?'.format(name=name))"
   ]
  },
  {
   "cell_type": "code",
   "execution_count": 8,
   "id": "52e29219",
   "metadata": {},
   "outputs": [
    {
     "name": "stdout",
     "output_type": "stream",
     "text": [
      "Premjith joined Amrita as a faculty in 2020\n",
      "Why is Premjith playing with that python?\n"
     ]
    }
   ],
   "source": [
    "year = 2020\n",
    "name = 'Premjith'\n",
    "\n",
    "print(f'{name} joined Amrita as a faculty in {year}')  # notice the 'f' before the string\n",
    "print(f'Why is {name} playing with that python?')  # notice the 'f' before the string"
   ]
  },
  {
   "cell_type": "markdown",
   "id": "0d055a0d",
   "metadata": {},
   "source": [
    "What Python does in the format method is that it substitutes each argument value into the place of the specification. There can be more detailed specifications such as:"
   ]
  },
  {
   "cell_type": "code",
   "execution_count": 3,
   "id": "c236ed98",
   "metadata": {},
   "outputs": [
    {
     "name": "stdout",
     "output_type": "stream",
     "text": [
      "1.428\n",
      "###hellO###\n",
      "Paul Kalanithi wrote When Breath Becomes Air\n"
     ]
    }
   ],
   "source": [
    "# decimal (.) precision .of 3 for float '0.333'\n",
    "print('{0:.3f}'.format(1.4284))\n",
    "\n",
    "# fill with underscores (_) with the text centered\n",
    "# (^) to 11 width '___hello___'\n",
    "print('{0:#^11}'.format('hellO'))\n",
    "\n",
    "print('{name} wrote {book}'.format(name='Paul Kalanithi', book='When Breath Becomes Air'))"
   ]
  },
  {
   "cell_type": "code",
   "execution_count": 4,
   "id": "2489537b",
   "metadata": {},
   "outputs": [
    {
     "data": {
      "text/plain": [
       "1.4285714285714286"
      ]
     },
     "execution_count": 4,
     "metadata": {},
     "output_type": "execute_result"
    }
   ],
   "source": [
    "10/7"
   ]
  },
  {
   "cell_type": "markdown",
   "id": "b4da25aa",
   "metadata": {},
   "source": [
    "Since we are discussing formatting, note that print always ends with an invisible \"new line\" character (\\n) so that repeated calls to print will all print on a separate line each. To prevent this newline character from being printed, you can specify that it should end with a blank:"
   ]
  },
  {
   "cell_type": "code",
   "execution_count": 5,
   "id": "55b8ed61",
   "metadata": {},
   "outputs": [
    {
     "name": "stdout",
     "output_type": "stream",
     "text": [
      "a-b"
     ]
    }
   ],
   "source": [
    "print('a', end='-')\n",
    "print('b', end='')"
   ]
  },
  {
   "cell_type": "code",
   "execution_count": 95,
   "id": "d08e8698",
   "metadata": {},
   "outputs": [
    {
     "name": "stdout",
     "output_type": "stream",
     "text": [
      "a\n",
      "b\n"
     ]
    }
   ],
   "source": [
    "print('a')\n",
    "print('b')"
   ]
  },
  {
   "cell_type": "code",
   "execution_count": 25,
   "id": "fcb012c3",
   "metadata": {},
   "outputs": [
    {
     "name": "stdout",
     "output_type": "stream",
     "text": [
      "a b c\n"
     ]
    }
   ],
   "source": [
    "print('a', end=' ')\n",
    "print('b', end=' ')\n",
    "print('c')"
   ]
  },
  {
   "cell_type": "markdown",
   "id": "524ff85e",
   "metadata": {},
   "source": [
    "### Escape Sequences\n",
    "Suppose, you want to have a string which contains a single quote ('), how will you specify this string? For example, the string is \"What's your name?\". You cannot specify 'What's your name?' because Python will be confused as to where the string starts and ends. So, you will have to specify that this single quote does not indicate the end of the string. This can be done with the help of what is called an escape sequence. You specify the single quote as \\' : notice the backslash. Now, you can specify the string as 'What\\'s your name?'.\n",
    "\n",
    "Another way of specifying this specific string would be \"What's your name?\" i.e. using double quotes. Similarly, you have to use an escape sequence for using a double quote itself in a double quoted string. Also, you have to indicate the backslash itself using the escape sequence \\\\.\n",
    "\n",
    "What if you wanted to specify a two-line string? One way is to use a triple-quoted string as shown previously or you can use an escape sequence for the newline character - \\n to indicate the start of a new line. An example is:"
   ]
  },
  {
   "cell_type": "code",
   "execution_count": 100,
   "id": "cf3c9fa0",
   "metadata": {},
   "outputs": [
    {
     "ename": "SyntaxError",
     "evalue": "unterminated string literal (detected at line 1) (4151305882.py, line 1)",
     "output_type": "error",
     "traceback": [
      "\u001b[1;36m  Cell \u001b[1;32mIn[100], line 1\u001b[1;36m\u001b[0m\n\u001b[1;33m    print('What\"s your name?\")\u001b[0m\n\u001b[1;37m          ^\u001b[0m\n\u001b[1;31mSyntaxError\u001b[0m\u001b[1;31m:\u001b[0m unterminated string literal (detected at line 1)\n"
     ]
    }
   ],
   "source": [
    "print('What\"s your name?\")"
   ]
  },
  {
   "cell_type": "code",
   "execution_count": 13,
   "id": "abe3ec39",
   "metadata": {},
   "outputs": [
    {
     "name": "stdout",
     "output_type": "stream",
     "text": [
      "What's your name?\n"
     ]
    }
   ],
   "source": [
    "print('What\\'s your name?')"
   ]
  },
  {
   "cell_type": "code",
   "execution_count": 27,
   "id": "d453fe58",
   "metadata": {},
   "outputs": [
    {
     "name": "stdout",
     "output_type": "stream",
     "text": [
      "This is the first line\n",
      "This is the second line\n"
     ]
    }
   ],
   "source": [
    "print('This is the first line\\nThis is the second line')"
   ]
  },
  {
   "cell_type": "markdown",
   "id": "5d3520fa",
   "metadata": {},
   "source": [
    "### Variable\n",
    "Using just literal constants can soon become boring - we need some way of storing any information and manipulate them as well. This is where variables come into the picture. Variables are exactly what the name implies - their value can vary, i.e., you can store anything using a variable. Variables are just parts of your computer's memory where you store some information. Unlike literal constants, you need some method of accessing these variables and hence you give them names.\n",
    "\n",
    "### Identifier Naming\n",
    "Variables are examples of identifiers. Identifiers are names given to identify something. There are some rules you have to follow for naming identifiers:\n",
    "\n",
    "* The first character of the identifier must be a letter of the alphabet (uppercase ASCII or lowercase ASCII or Unicode character) or an underscore (_).\n",
    "* The rest of the identifier name can consist of letters (uppercase ASCII or lowercase ASCII or Unicode character), underscores (_) or digits (0-9).\n",
    "* Identifier names are case-sensitive. For example, myname and myName are not the same. Note the lowercase n in the former and the uppercase N in the latter.\n",
    "* Examples of valid identifier names are i, name_2_3. Examples of invalid identifier names are 2things, this is spaced out, my-name and >a1b2_c3.\n",
    "\n",
    "### Data Types\n",
    "Variables can hold values of different types called data types. The basic types are numbers and strings, which we have already discussed. In later chapters, we will see how to create our own types using classes.\n",
    "\n",
    "### Object\n",
    "Remember, Python refers to anything used in a program as an object. This is meant in the generic sense. Instead of saying \"the something\"', we say \"the object\"."
   ]
  },
  {
   "cell_type": "code",
   "execution_count": 29,
   "id": "c0525403",
   "metadata": {},
   "outputs": [
    {
     "name": "stdout",
     "output_type": "stream",
     "text": [
      "5\n",
      "6\n",
      "This is a multi-line string.\n",
      "This is the second line.\n"
     ]
    }
   ],
   "source": [
    "i = 5\n",
    "print(i)\n",
    "\n",
    "i = i + 1\n",
    "print(i)\n",
    "\n",
    "s = '''This is a multi-line string.\n",
    "This is the second line.'''\n",
    "print(s)"
   ]
  },
  {
   "cell_type": "code",
   "execution_count": 30,
   "id": "22a50469",
   "metadata": {},
   "outputs": [
    {
     "name": "stdout",
     "output_type": "stream",
     "text": [
      "5\n"
     ]
    }
   ],
   "source": [
    "i = 5\n",
    "print(i)"
   ]
  },
  {
   "cell_type": "code",
   "execution_count": 31,
   "id": "bd4e308b",
   "metadata": {},
   "outputs": [
    {
     "name": "stdout",
     "output_type": "stream",
     "text": [
      "5\n"
     ]
    }
   ],
   "source": [
    "i = 5;\n",
    "print(i);"
   ]
  },
  {
   "cell_type": "code",
   "execution_count": 32,
   "id": "2ed5649d",
   "metadata": {},
   "outputs": [
    {
     "name": "stdout",
     "output_type": "stream",
     "text": [
      "5\n"
     ]
    }
   ],
   "source": [
    "i = 5; print(i);"
   ]
  },
  {
   "cell_type": "code",
   "execution_count": 103,
   "id": "1d94ef15",
   "metadata": {},
   "outputs": [
    {
     "ename": "SyntaxError",
     "evalue": "invalid syntax (1932100463.py, line 1)",
     "output_type": "error",
     "traceback": [
      "\u001b[1;36m  Cell \u001b[1;32mIn[103], line 1\u001b[1;36m\u001b[0m\n\u001b[1;33m    i = 5 print(i)\u001b[0m\n\u001b[1;37m          ^\u001b[0m\n\u001b[1;31mSyntaxError\u001b[0m\u001b[1;31m:\u001b[0m invalid syntax\n"
     ]
    }
   ],
   "source": [
    "i = 5 print(i)"
   ]
  },
  {
   "cell_type": "code",
   "execution_count": 34,
   "id": "97e1fcfa",
   "metadata": {},
   "outputs": [
    {
     "name": "stdout",
     "output_type": "stream",
     "text": [
      "5\n"
     ]
    }
   ],
   "source": [
    "i = 5; print(i)"
   ]
  },
  {
   "cell_type": "code",
   "execution_count": 104,
   "id": "3b708605",
   "metadata": {},
   "outputs": [],
   "source": [
    "i = \\\n",
    "5"
   ]
  },
  {
   "cell_type": "markdown",
   "id": "4dc17a2f",
   "metadata": {},
   "source": [
    "### Indentation\n",
    "Whitespace is important in Python. Actually, whitespace at the beginning of the line is important. This is called indentation. Leading whitespace (spaces and tabs) at the beginning of the logical line is used to determine the indentation level of the logical line, which in turn is used to determine the grouping of statements.\n",
    "\n",
    "This means that statements which go together must have the same indentation. Each such set of statements is called a block. We will see examples of how blocks are important in later chapters.\n",
    "\n",
    "One thing you should remember is that wrong indentation can give rise to errors. For example:"
   ]
  },
  {
   "cell_type": "code",
   "execution_count": 36,
   "id": "83883791",
   "metadata": {},
   "outputs": [
    {
     "ename": "IndentationError",
     "evalue": "unexpected indent (128197858.py, line 3)",
     "output_type": "error",
     "traceback": [
      "\u001b[1;36m  Cell \u001b[1;32mIn[36], line 3\u001b[1;36m\u001b[0m\n\u001b[1;33m    print('Value is', i)\u001b[0m\n\u001b[1;37m    ^\u001b[0m\n\u001b[1;31mIndentationError\u001b[0m\u001b[1;31m:\u001b[0m unexpected indent\n"
     ]
    }
   ],
   "source": [
    "i = 5\n",
    "# Error below! Notice a single space at the start of the line\n",
    " print('Value is', i)\n",
    "print('I repeat, the value is', i)"
   ]
  },
  {
   "cell_type": "code",
   "execution_count": 38,
   "id": "75141aae",
   "metadata": {},
   "outputs": [
    {
     "name": "stdout",
     "output_type": "stream",
     "text": [
      "Value is 5\n",
      "I repeat, the value is 5\n"
     ]
    }
   ],
   "source": [
    "# Corrected code\n",
    "i = 5\n",
    "print('Value is', i)\n",
    "print('I repeat, the value is', i)"
   ]
  },
  {
   "cell_type": "markdown",
   "id": "18d0f3f4",
   "metadata": {},
   "source": [
    "## Operators and Expressions\n",
    "Most statements (logical lines) that you write will contain expressions. A simple example of an expression is 2 + 3. An expression can be broken down into operators and operands.\n",
    "\n",
    "Operators are functionality that do something and can be represented by symbols such as + or by special keywords. Operators require some data to operate on and such data is called operands. In this case, 2 and 3 are the operands."
   ]
  },
  {
   "cell_type": "code",
   "execution_count": 39,
   "id": "acd2ac54",
   "metadata": {},
   "outputs": [
    {
     "data": {
      "text/plain": [
       "5"
      ]
     },
     "execution_count": 39,
     "metadata": {},
     "output_type": "execute_result"
    }
   ],
   "source": [
    "2 + 3"
   ]
  },
  {
   "cell_type": "code",
   "execution_count": 40,
   "id": "1fc0eb89",
   "metadata": {},
   "outputs": [
    {
     "data": {
      "text/plain": [
       "15"
      ]
     },
     "execution_count": 40,
     "metadata": {},
     "output_type": "execute_result"
    }
   ],
   "source": [
    "3 * 5"
   ]
  },
  {
   "cell_type": "markdown",
   "id": "5b360c3b",
   "metadata": {},
   "source": [
    "Here is a quick overview of the available operators:\n",
    "* \\+ (plus)\n",
    "    - Adds two objects\n",
    "    - 3 + 5 gives 8. 'a' + 'b' gives 'ab'.\n",
    "* \\- (minus)\n",
    "    - Gives the subtraction of one number from the other; if the first operand is absent it is assumed to be zero.\n",
    "    - -5.2 gives a negative number and 50 - 24 gives 26\n",
    "* \\* (multiply)\n",
    "    - Gives the multiplication of the two numbers or returns the string repeated that many times.\n",
    "    - 2 * 3 gives 6. 'la' * 3 gives 'lalala'.\n",
    "* ** (power)\n",
    "    - Returns x to the power of y\n",
    "    - 3 ** 4 gives 81 (i.e. 3 * 3 * 3 * 3)\n",
    "* /\n",
    "    - Divide x by y\n",
    "    - 13 / 3 gives 4.333333333333333\n",
    "* // (divide and floor)\n",
    "    - Divide x by y and round the answer down to the nearest integer value. Note that if one of the values is a float, you'll get back a float.\n",
    "    - 13 // 3 gives 4\n",
    "    - -13 // 3 gives -5\n",
    "    - 9//1.81 gives 4.0\n",
    "* % (modulo)\n",
    "    - Returns the remainder of the division\n",
    "    - 13 % 3 gives 1. -25.5 % 2.25 gives 1.5.\n",
    "* << (left shift)\n",
    "    - Shifts the bits of the number to the left by the number of bits specified. (Each number is represented in memory by bits or binary digits i.e. 0 and 1)\n",
    "    - 2 << 2 gives 8. 2 is represented by 10 in bits.\n",
    "    - Left shifting by 2 bits gives 1000 which represents the decimal 8.\n",
    "* \\>> (right shift)\n",
    "    - Shifts the bits of the number to the right by the number of bits specified.\n",
    "    - 11 >> 1 gives 5.\n",
    "    - 11 is represented in bits by 1011 which when right shifted by 1 bit gives 101which is the decimal 5.\n",
    "* & (bit-wise AND)\n",
    "    - Bit-wise AND of the numbers: if both bits are 1, the result is 1. Otherwise, it's 0.\n",
    "    - 5 & 3 gives 1 (0101 & 0011 gives 0001)\n",
    "* | (bit-wise OR)\n",
    "    - Bitwise OR of the numbers: if both bits are 0, the result is 0. Otherwise, it's 1.\n",
    "    - 5 | 3 gives 7 (0101 | 0011 gives 0111)\n",
    "* ^ (bit-wise XOR)\n",
    "    - Bitwise XOR of the numbers: if both bits (1 or 0) are the same, the result is 0. Otherwise, it's 1.\n",
    "    - 5 ^ 3 gives 6 (O101 ^ 0011 gives 0110)\n",
    "* ~ (bit-wise invert)\n",
    "    - The bit-wise inversion of x is -(x+1)\n",
    "    - ~5 gives -6\n",
    "* <\n",
    "    - Returns whether x is less than y. All comparison operators return True or False. Note the capitalization of these names.\n",
    "    - 5 < 3 gives False and 3 < 5 gives True.\n",
    "    - Comparisons can be chained arbitrarily: 3 < 5 < 7 gives True.\n",
    "* \\>\n",
    "    - Returns whether x is greater than y\n",
    "    - 5 > 3 returns True. If both operands are numbers, they are first converted to a common type. Otherwise, it always returns False\n",
    "* <=\n",
    "    - Returns whether x is less than or equal to y\n",
    "    - x = 3; y = 6; x <= y returns True\n",
    "* \\>=\n",
    "    - Returns whether x is greater than or equal to y\n",
    "    - x = 4; y = 3; x >= 3 returns True\n",
    "* ==\n",
    "    - Compares if the objects are equal\n",
    "    - x = 2; y = 2; x == y returns True\n",
    "    - x = 'str'; y = 'stR'; x == y returns False\n",
    "    - x = 'str'; y = 'str'; x == y returns True\n",
    "* !=\n",
    "    - Compares if the objects are not equal\n",
    "    - x = 2; y = 3; x != y returns True\n",
    "* not (boolean NOT)\n",
    "    - If x is True, it returns False. If x is False, it returns True.\n",
    "    - x = True; not x returns False.\n",
    "* and (boolean AND)\n",
    "    - x and y returns False if x is False, else it returns evaluation of y\n",
    "    - x = False; y = True; x and y returns False since x is False. In this case, Python will not evaluate y since it knows that the left hand side of the 'and' expression is False which implies that the whole expression will be False irrespective of the other values. This is called short-circuit evaluation.\n",
    "* or (boolean OR)\n",
    "    - If x is True, it returns True, else it returns evaluation of y\n",
    "    - x = True; y = False; x or y returns True. Short-circuit evaluation applies here as well."
   ]
  },
  {
   "cell_type": "code",
   "execution_count": 14,
   "id": "6ac7781f",
   "metadata": {},
   "outputs": [],
   "source": [
    "a = 2\n",
    "a = a + 3"
   ]
  },
  {
   "cell_type": "code",
   "execution_count": 15,
   "id": "a03a78b0",
   "metadata": {},
   "outputs": [],
   "source": [
    "a = 2\n",
    "a += 3"
   ]
  },
  {
   "cell_type": "code",
   "execution_count": 16,
   "id": "cd0a23e0",
   "metadata": {},
   "outputs": [
    {
     "name": "stdout",
     "output_type": "stream",
     "text": [
      "5\n"
     ]
    }
   ],
   "source": [
    "# addition\n",
    "a = 2\n",
    "b = 3\n",
    "sum = a + b\n",
    "print(sum)"
   ]
  },
  {
   "cell_type": "code",
   "execution_count": 18,
   "id": "f61e5dc6",
   "metadata": {},
   "outputs": [
    {
     "name": "stdout",
     "output_type": "stream",
     "text": [
      "-1\n"
     ]
    }
   ],
   "source": [
    "# subtraction\n",
    "a = 2\n",
    "b = 3\n",
    "sub = a - b\n",
    "print(sub)"
   ]
  },
  {
   "cell_type": "code",
   "execution_count": 19,
   "id": "fc5ed935",
   "metadata": {},
   "outputs": [
    {
     "name": "stdout",
     "output_type": "stream",
     "text": [
      "6\n"
     ]
    }
   ],
   "source": [
    "# multiplication\n",
    "a = 2\n",
    "b = 3\n",
    "mul = a * b\n",
    "print(mul)"
   ]
  },
  {
   "cell_type": "code",
   "execution_count": 20,
   "id": "fff51d60",
   "metadata": {},
   "outputs": [
    {
     "name": "stdout",
     "output_type": "stream",
     "text": [
      "81\n"
     ]
    }
   ],
   "source": [
    "# power\n",
    "print(3 ** 4)"
   ]
  },
  {
   "cell_type": "code",
   "execution_count": 21,
   "id": "66be0ccf",
   "metadata": {},
   "outputs": [
    {
     "name": "stdout",
     "output_type": "stream",
     "text": [
      "4.333333333333333\n"
     ]
    }
   ],
   "source": [
    "# divide\n",
    "print(13 / 3)"
   ]
  },
  {
   "cell_type": "code",
   "execution_count": 22,
   "id": "20ae1804",
   "metadata": {},
   "outputs": [
    {
     "name": "stdout",
     "output_type": "stream",
     "text": [
      "4\n",
      "-5\n"
     ]
    }
   ],
   "source": [
    "# floor division\n",
    "print(13 // 3)   \n",
    "print(-13 // 3)"
   ]
  },
  {
   "cell_type": "code",
   "execution_count": 23,
   "id": "1473c041",
   "metadata": {},
   "outputs": [
    {
     "name": "stdout",
     "output_type": "stream",
     "text": [
      "1\n",
      "1.5\n"
     ]
    }
   ],
   "source": [
    "# modulo\n",
    "print(13 % 3)    \n",
    "print(-25.5 % 2.25) "
   ]
  },
  {
   "cell_type": "code",
   "execution_count": 106,
   "id": "e1dfbf7f",
   "metadata": {},
   "outputs": [
    {
     "name": "stdout",
     "output_type": "stream",
     "text": [
      "0\n"
     ]
    }
   ],
   "source": [
    "# left shift\n",
    "print(2 >> 2)  # binary: 10 shifted to 1000"
   ]
  },
  {
   "cell_type": "code",
   "execution_count": 25,
   "id": "9e0fdf7a",
   "metadata": {},
   "outputs": [
    {
     "name": "stdout",
     "output_type": "stream",
     "text": [
      "5\n"
     ]
    }
   ],
   "source": [
    "# right shift\n",
    "print(11 >> 1)  # binary: 1011 shifted to 101"
   ]
  },
  {
   "cell_type": "code",
   "execution_count": 27,
   "id": "e0084226",
   "metadata": {},
   "outputs": [
    {
     "name": "stdout",
     "output_type": "stream",
     "text": [
      "0\n"
     ]
    }
   ],
   "source": [
    "print(2 >> 2)"
   ]
  },
  {
   "cell_type": "code",
   "execution_count": 28,
   "id": "e40bf187",
   "metadata": {},
   "outputs": [
    {
     "name": "stdout",
     "output_type": "stream",
     "text": [
      "1\n"
     ]
    }
   ],
   "source": [
    "# bitwise AND\n",
    "print(5 & 3)  # binary: 0101 & 0011 = 0001"
   ]
  },
  {
   "cell_type": "code",
   "execution_count": 29,
   "id": "ee46b99c",
   "metadata": {},
   "outputs": [
    {
     "name": "stdout",
     "output_type": "stream",
     "text": [
      "7\n"
     ]
    }
   ],
   "source": [
    "# bitwise OR \n",
    "print(5 | 3)  # binary: 0101 | 0011 = 0111"
   ]
  },
  {
   "cell_type": "code",
   "execution_count": 30,
   "id": "e64676aa",
   "metadata": {},
   "outputs": [
    {
     "name": "stdout",
     "output_type": "stream",
     "text": [
      "6\n"
     ]
    }
   ],
   "source": [
    "# bitwise XOR\n",
    "print(5 ^ 3)  # binary: 0101 ^ 0011 = 0110"
   ]
  },
  {
   "cell_type": "code",
   "execution_count": 31,
   "id": "9bcd64f5",
   "metadata": {},
   "outputs": [
    {
     "name": "stdout",
     "output_type": "stream",
     "text": [
      "-6\n"
     ]
    }
   ],
   "source": [
    "# bitwise Inversion\n",
    "print(~5)  # inverts the bits: -(5 + 1)"
   ]
  },
  {
   "cell_type": "code",
   "execution_count": 32,
   "id": "a8acefd2",
   "metadata": {},
   "outputs": [
    {
     "name": "stdout",
     "output_type": "stream",
     "text": [
      "True\n"
     ]
    }
   ],
   "source": [
    "# less than\n",
    "print(3 < 5)"
   ]
  },
  {
   "cell_type": "code",
   "execution_count": 33,
   "id": "e37120ee",
   "metadata": {},
   "outputs": [
    {
     "name": "stdout",
     "output_type": "stream",
     "text": [
      "True\n"
     ]
    }
   ],
   "source": [
    "# greater than\n",
    "print(5 > 3)"
   ]
  },
  {
   "cell_type": "code",
   "execution_count": 34,
   "id": "60439faa",
   "metadata": {},
   "outputs": [
    {
     "name": "stdout",
     "output_type": "stream",
     "text": [
      "True\n"
     ]
    }
   ],
   "source": [
    "# less than or equal to\n",
    "print(3 <= 3)"
   ]
  },
  {
   "cell_type": "code",
   "execution_count": 35,
   "id": "f8ed31ac",
   "metadata": {},
   "outputs": [
    {
     "name": "stdout",
     "output_type": "stream",
     "text": [
      "True\n"
     ]
    }
   ],
   "source": [
    "# greater than or equal to\n",
    "print(5 >= 5)"
   ]
  },
  {
   "cell_type": "code",
   "execution_count": 36,
   "id": "e2ca5468",
   "metadata": {},
   "outputs": [
    {
     "name": "stdout",
     "output_type": "stream",
     "text": [
      "True\n"
     ]
    }
   ],
   "source": [
    "# equality\n",
    "x = \"Python\"\n",
    "y = \"Python\"\n",
    "print(x == y) "
   ]
  },
  {
   "cell_type": "code",
   "execution_count": 37,
   "id": "c3a296db",
   "metadata": {},
   "outputs": [
    {
     "name": "stdout",
     "output_type": "stream",
     "text": [
      "True\n"
     ]
    }
   ],
   "source": [
    "# inequality\n",
    "x = \"Python\"\n",
    "y = \"Coding\"\n",
    "print(x != y)"
   ]
  },
  {
   "cell_type": "code",
   "execution_count": 38,
   "id": "4d518597",
   "metadata": {},
   "outputs": [
    {
     "name": "stdout",
     "output_type": "stream",
     "text": [
      "True\n"
     ]
    }
   ],
   "source": [
    "# logical NOT\n",
    "x = False\n",
    "print(not x)"
   ]
  },
  {
   "cell_type": "code",
   "execution_count": 39,
   "id": "d1aaf7b9",
   "metadata": {},
   "outputs": [
    {
     "name": "stdout",
     "output_type": "stream",
     "text": [
      "False\n"
     ]
    }
   ],
   "source": [
    "# logical AND\n",
    "x = True\n",
    "y = False\n",
    "print(x and y)"
   ]
  },
  {
   "cell_type": "code",
   "execution_count": 40,
   "id": "8491b5af",
   "metadata": {},
   "outputs": [
    {
     "name": "stdout",
     "output_type": "stream",
     "text": [
      "True\n"
     ]
    }
   ],
   "source": [
    "# logical OR\n",
    "x = True\n",
    "y = False\n",
    "print(x or y)"
   ]
  },
  {
   "cell_type": "markdown",
   "id": "f7563510",
   "metadata": {},
   "source": [
    "## Control Flow\n",
    "In the programs we have seen till now, there has always been a series of statements faithfully executed by Python in exact top-down order. What if you wanted to change the flow of how it works? For example, you want the program to take some decisions and do different things depending on different situations, such as printing 'Good Morning' or 'Good Evening' depending on the time of the day?\n",
    "\n",
    "As you might have guessed, this is achieved using control flow statements. There are three control flow statements in Python - if, for and while.\n",
    "\n",
    "### The if statement\n",
    "The if statement is used to check a condition: if the condition is true, we run a block of statements (called the if-block), else we process another block of statements (called the else-block). The else clause is optional."
   ]
  },
  {
   "cell_type": "code",
   "execution_count": 43,
   "id": "be5cb19d",
   "metadata": {},
   "outputs": [
    {
     "name": "stdout",
     "output_type": "stream",
     "text": [
      "Enter an integer : 5\n",
      "No, it is a little higher than that\n",
      "Done\n"
     ]
    }
   ],
   "source": [
    "number = 23\n",
    "guess = int(input('Enter an integer : '))\n",
    "\n",
    "if guess == number:\n",
    "    # New block starts here\n",
    "    print('Congratulations, you guessed it.')\n",
    "    print('(but you do not win any prizes!)')\n",
    "    # New block ends here\n",
    "elif guess < number:\n",
    "    # Another block\n",
    "    print('No, it is a little higher than that')\n",
    "    # You can do whatever you want in a block ...\n",
    "else:\n",
    "    print('No, it is a little lower than that')\n",
    "    # you must have guessed > number to reach here\n",
    "\n",
    "print('Done')\n",
    "# This last statement is always executed,\n",
    "# after the if statement is executed."
   ]
  },
  {
   "cell_type": "code",
   "execution_count": 44,
   "id": "e02b480f",
   "metadata": {},
   "outputs": [
    {
     "name": "stdout",
     "output_type": "stream",
     "text": [
      "Yes, it is true\n"
     ]
    }
   ],
   "source": [
    "# elif and else parts are optional.\n",
    "if True:\n",
    "    print('Yes, it is true')"
   ]
  },
  {
   "cell_type": "code",
   "execution_count": 41,
   "id": "873093b8",
   "metadata": {},
   "outputs": [
    {
     "name": "stdout",
     "output_type": "stream",
     "text": [
      "x is greater than 10 and even\n"
     ]
    }
   ],
   "source": [
    "# nested if\n",
    "x = 20\n",
    "if x > 10:\n",
    "    if x % 2 == 0:\n",
    "        print(\"x is greater than 10 and even\")  "
   ]
  },
  {
   "cell_type": "code",
   "execution_count": 42,
   "id": "edd959c7",
   "metadata": {},
   "outputs": [
    {
     "name": "stdout",
     "output_type": "stream",
     "text": [
      "x is between 10 and 20\n"
     ]
    }
   ],
   "source": [
    "x = 15\n",
    "if x > 10 and x < 20:\n",
    "    print(\"x is between 10 and 20\")"
   ]
  },
  {
   "cell_type": "code",
   "execution_count": 43,
   "id": "2afa585d",
   "metadata": {},
   "outputs": [
    {
     "name": "stdout",
     "output_type": "stream",
     "text": [
      "x is smaller\n"
     ]
    }
   ],
   "source": [
    "# Ternary Conditional Expression\n",
    "x = 5\n",
    "y = 10\n",
    "result = \"x is smaller\" if x < y else \"y is smaller\"\n",
    "print(result)  "
   ]
  },
  {
   "cell_type": "code",
   "execution_count": 44,
   "id": "62ef8dfa",
   "metadata": {},
   "outputs": [
    {
     "name": "stdout",
     "output_type": "stream",
     "text": [
      "x is positive and even\n"
     ]
    }
   ],
   "source": [
    "x = 8\n",
    "if x > 0:\n",
    "    if x % 2 == 0:\n",
    "        print(\"x is positive and even\") \n",
    "    else:\n",
    "        print(\"x is positive and odd\")\n",
    "else:\n",
    "    print(\"x is negative\")"
   ]
  },
  {
   "cell_type": "markdown",
   "id": "5e941326",
   "metadata": {},
   "source": [
    "### The while Statement\n",
    "The while statement allows you to repeatedly execute a block of statements as long as a condition is true. A while statement is an example of what is called a looping statement. A while statement can have an optional else clause."
   ]
  },
  {
   "cell_type": "code",
   "execution_count": 45,
   "id": "2cf5e9a7",
   "metadata": {},
   "outputs": [
    {
     "name": "stdout",
     "output_type": "stream",
     "text": [
      "Enter an integer : 5\n",
      "No, it is a little higher than that.\n",
      "Enter an integer : 40\n",
      "No, it is a little lower than that.\n",
      "Enter an integer : 23\n",
      "Congratulations, you guessed it.\n",
      "The while loop is over.\n",
      "Done\n"
     ]
    }
   ],
   "source": [
    "number = 23\n",
    "running = True\n",
    "\n",
    "while running:\n",
    "    guess = int(input('Enter an integer : '))\n",
    "\n",
    "    if guess == number:\n",
    "        print('Congratulations, you guessed it.')\n",
    "        # this causes the while loop to stop\n",
    "        running = False\n",
    "    elif guess < number:\n",
    "        print('No, it is a little higher than that.')\n",
    "    else:\n",
    "        print('No, it is a little lower than that.')\n",
    "else:\n",
    "    print('The while loop is over.')\n",
    "    # Do anything else you want to do here\n",
    "\n",
    "print('Done')"
   ]
  },
  {
   "cell_type": "markdown",
   "id": "7b433cfb",
   "metadata": {},
   "source": [
    "### The for loop\n",
    "The for..in statement is another looping statement which iterates over a sequence of objects i.e. go through each item in a sequence."
   ]
  },
  {
   "cell_type": "code",
   "execution_count": 45,
   "id": "c6242971",
   "metadata": {},
   "outputs": [
    {
     "name": "stdout",
     "output_type": "stream",
     "text": [
      "1\n",
      "2\n",
      "3\n",
      "4\n"
     ]
    }
   ],
   "source": [
    "for i in range(1, 5):\n",
    "    print(i)"
   ]
  },
  {
   "cell_type": "code",
   "execution_count": 46,
   "id": "c7714e69",
   "metadata": {},
   "outputs": [
    {
     "name": "stdout",
     "output_type": "stream",
     "text": [
      "apple\n",
      "banana\n",
      "cherry\n"
     ]
    }
   ],
   "source": [
    "fruits = [\"apple\", \"banana\", \"cherry\"]\n",
    "for fruit in fruits:\n",
    "    print(fruit)"
   ]
  },
  {
   "cell_type": "code",
   "execution_count": 47,
   "id": "83523a90",
   "metadata": {},
   "outputs": [
    {
     "name": "stdout",
     "output_type": "stream",
     "text": [
      "2\n",
      "4\n",
      "6\n",
      "8\n",
      "10\n"
     ]
    }
   ],
   "source": [
    "# Printing even numbers from 2 to 10\n",
    "for i in range(2, 11, 2):\n",
    "    print(i)"
   ]
  },
  {
   "cell_type": "code",
   "execution_count": 48,
   "id": "bcc4aa93",
   "metadata": {},
   "outputs": [
    {
     "name": "stdout",
     "output_type": "stream",
     "text": [
      "P\n",
      "y\n",
      "t\n",
      "h\n",
      "o\n",
      "n\n"
     ]
    }
   ],
   "source": [
    "word = \"Python\"\n",
    "for letter in word:\n",
    "    print(letter)"
   ]
  },
  {
   "cell_type": "code",
   "execution_count": 49,
   "id": "037bef90",
   "metadata": {},
   "outputs": [
    {
     "name": "stdout",
     "output_type": "stream",
     "text": [
      "Loop iteration 0\n",
      "Loop iteration 1\n",
      "Loop iteration 2\n",
      "Loop completed\n"
     ]
    }
   ],
   "source": [
    "for i in range(3):\n",
    "    print(f\"Loop iteration {i}\")\n",
    "else:\n",
    "    print(\"Loop completed\")"
   ]
  },
  {
   "cell_type": "code",
   "execution_count": 50,
   "id": "b935b6e3",
   "metadata": {},
   "outputs": [
    {
     "name": "stdout",
     "output_type": "stream",
     "text": [
      "1 * 1 = 1\n",
      "1 * 2 = 2\n",
      "1 * 3 = 3\n",
      "2 * 1 = 2\n",
      "2 * 2 = 4\n",
      "2 * 3 = 6\n",
      "3 * 1 = 3\n",
      "3 * 2 = 6\n",
      "3 * 3 = 9\n"
     ]
    }
   ],
   "source": [
    "# nested for loop\n",
    "for i in range(1, 4):\n",
    "    for j in range(1, 4):\n",
    "        print(f\"{i} * {j} = {i * j}\")"
   ]
  },
  {
   "cell_type": "code",
   "execution_count": 51,
   "id": "66e8fd08",
   "metadata": {},
   "outputs": [
    {
     "name": "stdout",
     "output_type": "stream",
     "text": [
      "[1, 4, 9, 16, 25]\n"
     ]
    }
   ],
   "source": [
    "squares = [x**2 for x in range(1, 6)]\n",
    "print(squares)"
   ]
  },
  {
   "cell_type": "markdown",
   "id": "493c6783",
   "metadata": {},
   "source": [
    "### The break Statement\n",
    "The break statement is used to break out of a loop statement i.e. stop the execution of a looping statement, even if the loop condition has not become False or the sequence of items has not been completely iterated over.\n",
    "\n",
    "An important note is that if you break out of a for or while loop, any corresponding loop else block is not executed."
   ]
  },
  {
   "cell_type": "code",
   "execution_count": 47,
   "id": "23d301de",
   "metadata": {},
   "outputs": [
    {
     "name": "stdout",
     "output_type": "stream",
     "text": [
      "Enter something : hello\n",
      "Length of the string is 5\n",
      "Enter something : quit\n",
      "Done\n"
     ]
    }
   ],
   "source": [
    "while True:\n",
    "    s = input('Enter something : ')\n",
    "    if s == 'quit':\n",
    "        break\n",
    "    print('Length of the string is', len(s))\n",
    "print('Done')"
   ]
  },
  {
   "cell_type": "markdown",
   "id": "b78a4b03",
   "metadata": {},
   "source": [
    "### The continue Statement\n",
    "The continue statement is used to tell Python to skip the rest of the statements in the current loop block and to continue to the next iteration of the loop."
   ]
  },
  {
   "cell_type": "code",
   "execution_count": 48,
   "id": "3764e9e4",
   "metadata": {},
   "outputs": [
    {
     "name": "stdout",
     "output_type": "stream",
     "text": [
      "Enter something : hello\n",
      "Input is of sufficient length\n",
      "Enter something : quit\n"
     ]
    }
   ],
   "source": [
    "while True:\n",
    "    s = input('Enter something : ')\n",
    "    if s == 'quit':\n",
    "        break\n",
    "    if len(s) < 3:\n",
    "        print('Too small')\n",
    "        continue\n",
    "    print('Input is of sufficient length')\n",
    "    # Do other kinds of processing here..."
   ]
  },
  {
   "cell_type": "markdown",
   "id": "50eac11a",
   "metadata": {},
   "source": [
    "## Functions\n",
    "\n",
    "Functions are reusable pieces of programs. They allow you to give a name to a block of statements, allowing you to run that block using the specified name anywhere in your program and any number of times. This is known as calling the function. We have already used many built-in functions such as len and range.\n",
    "\n",
    "The function concept is probably the most important building block of any non-trivial software (in any programming language), so we will explore various aspects of functions in this chapter.\n",
    "\n",
    "Functions are defined using the def keyword. After this keyword comes an identifier name for the function, followed by a pair of parentheses which may enclose some names of variables, and by the final colon that ends the line. Next follows the block of statements that are part of this function. An example will show that this is actually very simple:"
   ]
  },
  {
   "cell_type": "code",
   "execution_count": 49,
   "id": "71e6e62e",
   "metadata": {},
   "outputs": [
    {
     "name": "stdout",
     "output_type": "stream",
     "text": [
      "hello world\n",
      "hello world\n"
     ]
    }
   ],
   "source": [
    "def say_hello():\n",
    "    # block belonging to the function\n",
    "    print('hello world')\n",
    "# End of function\n",
    "\n",
    "say_hello()  # call the function\n",
    "say_hello()  # call the function again"
   ]
  },
  {
   "cell_type": "markdown",
   "id": "05efcb7c",
   "metadata": {},
   "source": [
    "### Function Parameters\n",
    "A function can take parameters, which are values you supply to the function so that the function can do something utilising those values. These parameters are just like variables except that the values of these variables are defined when we call the function and are already assigned values when the function runs.\n",
    "\n",
    "Parameters are specified within the pair of parentheses in the function definition, separated by commas. When we call the function, we supply the values in the same way. Note the terminology used - the names given in the function definition are called parameters whereas the values you supply in the function call are called arguments."
   ]
  },
  {
   "cell_type": "code",
   "execution_count": 50,
   "id": "d1556f9a",
   "metadata": {},
   "outputs": [
    {
     "name": "stdout",
     "output_type": "stream",
     "text": [
      "4 is maximum\n",
      "7 is maximum\n"
     ]
    }
   ],
   "source": [
    "def print_max(a, b):\n",
    "    if a > b:\n",
    "        print(a, 'is maximum')\n",
    "    elif a == b:\n",
    "        print(a, 'is equal to', b)\n",
    "    else:\n",
    "        print(b, 'is maximum')\n",
    "\n",
    "# directly pass literal values\n",
    "print_max(3, 4)\n",
    "\n",
    "x = 5\n",
    "y = 7\n",
    "\n",
    "# pass variables as arguments\n",
    "print_max(x, y)"
   ]
  },
  {
   "cell_type": "markdown",
   "id": "246d263e",
   "metadata": {},
   "source": [
    "### The return statement\n",
    "The return statement is used to return from a function i.e. break out of the function. We can optionally return a value from the function as well."
   ]
  },
  {
   "cell_type": "code",
   "execution_count": 52,
   "id": "a22c10d5",
   "metadata": {},
   "outputs": [
    {
     "name": "stdout",
     "output_type": "stream",
     "text": [
      "3\n"
     ]
    }
   ],
   "source": [
    "def maximum(x, y):\n",
    "    if x > y:\n",
    "        return x\n",
    "    elif x == y:\n",
    "        return 'The numbers are equal'\n",
    "    else:\n",
    "        return y\n",
    "\n",
    "print(maximum(2, 3))"
   ]
  },
  {
   "cell_type": "code",
   "execution_count": 55,
   "id": "db171c6f",
   "metadata": {},
   "outputs": [
    {
     "name": "stdout",
     "output_type": "stream",
     "text": [
      "Enter a number: 8\n",
      "Even\n"
     ]
    }
   ],
   "source": [
    "# Write a program that checks if a given number is odd or even.\n",
    "num = int(input(\"Enter a number: \"))\n",
    "if num % 2 == 0:\n",
    "    print(\"Even\")\n",
    "else:\n",
    "    print(\"Odd\")"
   ]
  },
  {
   "cell_type": "code",
   "execution_count": 56,
   "id": "1984c4d5",
   "metadata": {},
   "outputs": [
    {
     "name": "stdout",
     "output_type": "stream",
     "text": [
      "Enter marks: 89\n",
      "Grade: B\n"
     ]
    }
   ],
   "source": [
    "# Check and assign grades based on marks.\n",
    "marks = int(input(\"Enter marks: \"))\n",
    "if marks >= 90:\n",
    "    print(\"Grade: A\")\n",
    "elif marks >= 75:\n",
    "    print(\"Grade: B\")\n",
    "elif marks >= 50:\n",
    "    print(\"Grade: C\")\n",
    "else:\n",
    "    print(\"Fail\")"
   ]
  },
  {
   "cell_type": "code",
   "execution_count": 57,
   "id": "757f5116",
   "metadata": {},
   "outputs": [
    {
     "name": "stdout",
     "output_type": "stream",
     "text": [
      "Enter a year: 2004\n",
      "Leap year\n"
     ]
    }
   ],
   "source": [
    "# Determine if a year is a leap year.\n",
    "year = int(input(\"Enter a year: \"))\n",
    "if (year % 4 == 0 and year % 100 != 0) or (year % 400 == 0):\n",
    "    print(\"Leap year\")\n",
    "else:\n",
    "    print(\"Not a leap year\")"
   ]
  },
  {
   "cell_type": "code",
   "execution_count": 58,
   "id": "8745be11",
   "metadata": {},
   "outputs": [
    {
     "name": "stdout",
     "output_type": "stream",
     "text": [
      "Enter a number: 7\n",
      "Positive\n"
     ]
    }
   ],
   "source": [
    "# Check whether a number is positive, negative, or zero.\n",
    "num = int(input(\"Enter a number: \"))\n",
    "if num > 0:\n",
    "    print(\"Positive\")\n",
    "elif num < 0:\n",
    "    print(\"Negative\")\n",
    "else:\n",
    "    print(\"Zero\")"
   ]
  },
  {
   "cell_type": "code",
   "execution_count": 59,
   "id": "a7071776",
   "metadata": {},
   "outputs": [
    {
     "name": "stdout",
     "output_type": "stream",
     "text": [
      "Enter first number: 8\n",
      "Enter second number: 4\n",
      "Enter operator (+, -, *, /): +\n",
      "12\n"
     ]
    }
   ],
   "source": [
    "# Perform basic arithmetic operations based on user input.\n",
    "a = int(input(\"Enter first number: \"))\n",
    "b = int(input(\"Enter second number: \"))\n",
    "op = input(\"Enter operator (+, -, *, /): \")\n",
    "if op == '+':\n",
    "    print(a + b)\n",
    "elif op == '-':\n",
    "    print(a - b)\n",
    "elif op == '*':\n",
    "    print(a * b)\n",
    "elif op == '/':\n",
    "    print(a / b)\n",
    "else:\n",
    "    print(\"Invalid operator\")"
   ]
  },
  {
   "cell_type": "code",
   "execution_count": 60,
   "id": "2c753304",
   "metadata": {},
   "outputs": [
    {
     "name": "stdout",
     "output_type": "stream",
     "text": [
      "Enter a character: a\n",
      "Vowel\n"
     ]
    }
   ],
   "source": [
    "# Check if a given character is a vowel or consonant.\n",
    "char = input(\"Enter a character: \").lower()\n",
    "if char in 'aeiou':\n",
    "    print(\"Vowel\")\n",
    "elif char.isalpha():\n",
    "    print(\"Consonant\")\n",
    "else:\n",
    "    print(\"Invalid input\")"
   ]
  },
  {
   "cell_type": "code",
   "execution_count": 61,
   "id": "499605e3",
   "metadata": {},
   "outputs": [
    {
     "name": "stdout",
     "output_type": "stream",
     "text": [
      "Sum: 55\n"
     ]
    }
   ],
   "source": [
    "# Calculate the sum of numbers from 1 to 10.\n",
    "total = 0\n",
    "for i in range(1, 11):\n",
    "    total += i\n",
    "print(\"Sum:\", total)"
   ]
  },
  {
   "cell_type": "code",
   "execution_count": 62,
   "id": "892174b1",
   "metadata": {},
   "outputs": [
    {
     "name": "stdout",
     "output_type": "stream",
     "text": [
      "Enter a number: 5\n",
      "Factorial: 120\n"
     ]
    }
   ],
   "source": [
    "# Find the factorial of a number.\n",
    "num = int(input(\"Enter a number: \"))\n",
    "factorial = 1\n",
    "for i in range(1, num + 1):\n",
    "    factorial *= i\n",
    "print(\"Factorial:\", factorial)"
   ]
  },
  {
   "cell_type": "code",
   "execution_count": 63,
   "id": "5214a935",
   "metadata": {},
   "outputs": [
    {
     "name": "stdout",
     "output_type": "stream",
     "text": [
      "Enter a string: hello\n",
      "Reversed: olleh\n"
     ]
    }
   ],
   "source": [
    "# Reverse a given string using a loop.\n",
    "text = input(\"Enter a string: \")\n",
    "reversed_text = \"\"\n",
    "for char in text:\n",
    "    reversed_text = char + reversed_text\n",
    "print(\"Reversed:\", reversed_text)"
   ]
  },
  {
   "cell_type": "code",
   "execution_count": 64,
   "id": "6b824edf",
   "metadata": {},
   "outputs": [
    {
     "name": "stdout",
     "output_type": "stream",
     "text": [
      "Enter a string: hello\n",
      "Number of vowels: 2\n"
     ]
    }
   ],
   "source": [
    "# Count the number of vowels in a string.\n",
    "text = input(\"Enter a string: \").lower()\n",
    "count = 0\n",
    "for char in text:\n",
    "    if char in 'aeiou':\n",
    "        count += 1\n",
    "print(\"Number of vowels:\", count)"
   ]
  },
  {
   "cell_type": "code",
   "execution_count": 68,
   "id": "296853b5",
   "metadata": {},
   "outputs": [
    {
     "name": "stdout",
     "output_type": "stream",
     "text": [
      "2 3 5 7 11 13 17 19 23 29 31 37 41 43 47 "
     ]
    }
   ],
   "source": [
    "# Print all prime numbers between 1 and 50.\n",
    "for num in range(2, 51):\n",
    "    is_prime = True\n",
    "    for i in range(2, int(num**0.5) + 1):\n",
    "        if num % i == 0:\n",
    "            is_prime = False\n",
    "            break\n",
    "    if is_prime:\n",
    "        print(num, end=\" \")"
   ]
  },
  {
   "cell_type": "code",
   "execution_count": 69,
   "id": "ccaef115",
   "metadata": {},
   "outputs": [
    {
     "name": "stdout",
     "output_type": "stream",
     "text": [
      "Enter the number of terms: 6\n",
      "0 1 1 2 3 5 "
     ]
    }
   ],
   "source": [
    "# Print the Fibonacci series up to n terms.\n",
    "n = int(input(\"Enter the number of terms: \"))\n",
    "a, b = 0, 1\n",
    "for _ in range(n):\n",
    "    print(a, end=\" \")\n",
    "    a, b = b, a + b"
   ]
  },
  {
   "cell_type": "code",
   "execution_count": 71,
   "id": "5867c4a4",
   "metadata": {},
   "outputs": [
    {
     "name": "stdout",
     "output_type": "stream",
     "text": [
      "12\n"
     ]
    }
   ],
   "source": [
    "# Function to Add Two Numbers\n",
    "def add(a, b):\n",
    "    return a + b\n",
    "\n",
    "print(add(5, 7)) "
   ]
  },
  {
   "cell_type": "code",
   "execution_count": 72,
   "id": "c5b6225c",
   "metadata": {},
   "outputs": [
    {
     "name": "stdout",
     "output_type": "stream",
     "text": [
      "True\n",
      "False\n"
     ]
    }
   ],
   "source": [
    "# Check Even or Odd\n",
    "def is_even(num):\n",
    "    return num % 2 == 0\n",
    "\n",
    "print(is_even(4))  \n",
    "print(is_even(5))  "
   ]
  },
  {
   "cell_type": "code",
   "execution_count": 73,
   "id": "8861ccd8",
   "metadata": {},
   "outputs": [
    {
     "name": "stdout",
     "output_type": "stream",
     "text": [
      "10\n"
     ]
    }
   ],
   "source": [
    "# Find the Maximum of Three Numbers\n",
    "def maximum(a, b, c):\n",
    "    return max(a, b, c)\n",
    "\n",
    "print(maximum(5, 10, 7))  "
   ]
  },
  {
   "cell_type": "code",
   "execution_count": 75,
   "id": "d715bd80",
   "metadata": {},
   "outputs": [
    {
     "name": "stdout",
     "output_type": "stream",
     "text": [
      "100.0\n"
     ]
    }
   ],
   "source": [
    "# Simple Interest Calculator\n",
    "def calculate_simple_interest(principal, rate, time):\n",
    "    return (principal * rate * time) / 100\n",
    "\n",
    "print(calculate_simple_interest(1000, 5, 2)) "
   ]
  },
  {
   "cell_type": "code",
   "execution_count": 76,
   "id": "3bf3f039",
   "metadata": {},
   "outputs": [
    {
     "name": "stdout",
     "output_type": "stream",
     "text": [
      "True\n",
      "False\n"
     ]
    }
   ],
   "source": [
    "# Palindrome Checker\n",
    "def is_palindrome(word):\n",
    "    return word == word[::-1]\n",
    "\n",
    "print(is_palindrome(\"madam\"))  \n",
    "print(is_palindrome(\"hello\"))  "
   ]
  },
  {
   "cell_type": "code",
   "execution_count": 77,
   "id": "495b2254",
   "metadata": {},
   "outputs": [
    {
     "name": "stdout",
     "output_type": "stream",
     "text": [
      "3\n"
     ]
    }
   ],
   "source": [
    "# Count Words in a String\n",
    "def word_count(sentence):\n",
    "    return len(sentence.split())\n",
    "\n",
    "print(word_count(\"Python is fun\"))  "
   ]
  },
  {
   "cell_type": "code",
   "execution_count": 78,
   "id": "0c36c600",
   "metadata": {},
   "outputs": [
    {
     "name": "stdout",
     "output_type": "stream",
     "text": [
      "\n",
      "1. Factorial\n",
      "2. Prime Check\n",
      "3. Fibonacci Series\n",
      "4. Exit\n",
      "Enter your choice: 1\n",
      "Enter a number: 4\n",
      "Factorial: 24\n",
      "\n",
      "1. Factorial\n",
      "2. Prime Check\n",
      "3. Fibonacci Series\n",
      "4. Exit\n",
      "Enter your choice: 2\n",
      "Enter a number: 6\n",
      "Prime: False\n",
      "\n",
      "1. Factorial\n",
      "2. Prime Check\n",
      "3. Fibonacci Series\n",
      "4. Exit\n",
      "Enter your choice: 3\n",
      "Enter number of terms: 7\n",
      "0 1 1 2 3 5 8 \n",
      "\n",
      "1. Factorial\n",
      "2. Prime Check\n",
      "3. Fibonacci Series\n",
      "4. Exit\n",
      "Enter your choice: 4\n",
      "Exiting program.\n"
     ]
    }
   ],
   "source": [
    "# Write a program using functions, if statements, and for loops to display a menu (e.g., calculate factorial, print Fibonacci series, check if a number is prime).\n",
    "def factorial(n):\n",
    "    result = 1\n",
    "    for i in range(1, n + 1):\n",
    "        result *= i\n",
    "    return result\n",
    "\n",
    "def is_prime(num):\n",
    "    if num < 2:\n",
    "        return False\n",
    "    for i in range(2, int(num**0.5) + 1):\n",
    "        if num % i == 0:\n",
    "            return False\n",
    "    return True\n",
    "\n",
    "def fibonacci(n):\n",
    "    a, b = 0, 1\n",
    "    for _ in range(n):\n",
    "        print(a, end=\" \")\n",
    "        a, b = b, a + b\n",
    "    print()\n",
    "\n",
    "while True:\n",
    "    print(\"\\n1. Factorial\\n2. Prime Check\\n3. Fibonacci Series\\n4. Exit\")\n",
    "    choice = int(input(\"Enter your choice: \"))\n",
    "    if choice == 1:\n",
    "        num = int(input(\"Enter a number: \"))\n",
    "        print(\"Factorial:\", factorial(num))\n",
    "    elif choice == 2:\n",
    "        num = int(input(\"Enter a number: \"))\n",
    "        print(\"Prime:\", is_prime(num))\n",
    "    elif choice == 3:\n",
    "        terms = int(input(\"Enter number of terms: \"))\n",
    "        fibonacci(terms)\n",
    "    elif choice == 4:\n",
    "        print(\"Exiting program.\")\n",
    "        break\n",
    "    else:\n",
    "        print(\"Invalid choice.\")"
   ]
  },
  {
   "cell_type": "code",
   "execution_count": null,
   "id": "2a5f7b84",
   "metadata": {},
   "outputs": [],
   "source": []
  }
 ],
 "metadata": {
  "kernelspec": {
   "display_name": "Python 3 (ipykernel)",
   "language": "python",
   "name": "python3"
  },
  "language_info": {
   "codemirror_mode": {
    "name": "ipython",
    "version": 3
   },
   "file_extension": ".py",
   "mimetype": "text/x-python",
   "name": "python",
   "nbconvert_exporter": "python",
   "pygments_lexer": "ipython3",
   "version": "3.11.1"
  }
 },
 "nbformat": 4,
 "nbformat_minor": 5
}
