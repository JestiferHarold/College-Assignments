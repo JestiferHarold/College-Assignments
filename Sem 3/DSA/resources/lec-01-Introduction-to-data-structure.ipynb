{
 "cells": [
  {
   "cell_type": "markdown",
   "id": "2ec966bd",
   "metadata": {},
   "source": [
    "# 22AIE112 DATA STRUCTURES & ALGORITHMS 1"
   ]
  },
  {
   "cell_type": "markdown",
   "id": "8f236294",
   "metadata": {},
   "source": [
    "## Who am I?\n",
    "\n",
    "**Dr Premjith B** \\\n",
    "Assistant Professor (Senior Grade) \\\n",
    "Amrita School of Artificial Intelligence\n",
    "\n",
    "**Qualification** \n",
    "* PhD in Neural Machine Translation \n",
    "* M.Tech in Computational Engineering and Networking \n",
    "* B.Tech in Computer Science and Engineering \n",
    "\n",
    "\n",
    "**Research interests**\n",
    "* Natural Language Processing\n",
    "* Computational Social Science\n",
    "* Computational Linguistics\n",
    "* Large Language Models for Indian languages\n",
    "* AI applied to cybersecurity and financ"
   ]
  },
  {
   "cell_type": "markdown",
   "id": "9fb5054d",
   "metadata": {},
   "source": [
    "## <span style=\"color:red\">Datastructures are fundamental</span>\n",
    "Abstract ideas becoming practical solutions\n",
    "<img src=images/ds1.webp width=\"400\" height=\"200\">\n",
    "\n",
    "### Why Study Data Structures?\n",
    "**What would you do if you had to organize a library with millions of books?**\n",
    "* Efficient storage and retrieval of data.\n",
    "* Solving real-world problems.\n",
    "* Foundation for advanced topics in computer science.\n",
    "\n",
    "<img src=images/a7.png width=\"800\" height=\"800\">"
   ]
  },
  {
   "cell_type": "markdown",
   "id": "287f437b",
   "metadata": {},
   "source": [
    "## Course Objectives\n",
    "* This course aims at introducing the concept of data structure hierarchy.  \n",
    "* It will also expose the students to the basic and higher order data structures.   \n",
    "* Further the students will be motivated to apply the concept of data structures to various engineering problems.  \n",
    "\n",
    "## Course Outcomes   \n",
    "After completing this course, the students will be able to  \n",
    "* **CO1**: Apply an appropriate data structure for a specified problem.  \n",
    "* **CO2**: Analyze the complexity of algorithms. \n",
    "* **CO3**: Implement linear data structures to solve different problems. \n",
    "* **CO4**: Implement non-linear data structures like trees to solve different problems. \n",
    "\n",
    "## Syllabus\n",
    "### Unit 1\n",
    "Data Structure Hierarchy – primitive and non-primitive, Array data structure, properties and functions, single  and multi-dimensional arrays, simple problems, Basics of Algorithm Analysis, big-O notation, notion of time  and space complexity, dynamic arrays\n",
    "### Unit 2\n",
    "Linked List, properties and functions, array implementations, singly linked list, doubly linked list, circular linked list, properties and functions, simple problems\n",
    "### Unit 3\n",
    "Stack data structure, properties and functions, recursion, expression evaluation, simple problems, Queue data structure, Circular queue, Double ended queue, priority queues, properties and functions, simple problems  (Implementation using arrays, LL)   \n",
    "### Unit 4\n",
    "Tree – Binary Tree, Binary Search Tree-– Array and Linked list representation, AVL Tree - union and  intersections of tree structures, Complete binary tree, Binary Heap Data Structure-Heap order and Heapsort \n",
    "\n",
    "## Text books\n",
    "<img src=images/t3.jpg width=\"600\" height=\"600\">\n",
    "\n",
    "## Evaluation\n",
    "| **Assessment**                          | **Internal/External** | **Weightage (%)** |\n",
    "|-----------------------------------------|------------------------|-------------------|\n",
    "| Assignments (Minimum 3)                 | Internal               | 30                |\n",
    "| Quizzes (Minimum 2)                     | Internal               | 20                |\n",
    "| Mid-Term Examination                    | Internal               | 20                |\n",
    "| Term Project/End Semester Examination   | External               | 30                |"
   ]
  },
  {
   "cell_type": "markdown",
   "id": "a3e7942c",
   "metadata": {},
   "source": [
    "## Coursework\n",
    "* **Includes both <span style=\"color:red\">theory and practical</span>**\n",
    "* Laptops and other electronic gadgets are not allowed in the class. \n",
    "* Evaluations: **Project presentations,  Quizzes/Exam and Viva**\n",
    "* Evaluations will be conducted during class hours/evaluation hours\n",
    "* <span style=\"color:red\">Plagiarized and AI-generated projects/answers carries 0 marks</span>\n",
    "* Weekly tests will be their to assess your coding skills\n",
    "* Quizzes to test your understanding of topics covered in the lectures\n",
    "* Projects to check your understanding of the learned concepts\n",
    "* End semester: Project\n",
    "* Project compponents\n",
    "    - Application of data structure discussed in this semester\n",
    "    - use object oriented programming concepts to implement the data structure\n",
    "    - Analyse the complexity of the developed algorithms\n",
    "\n",
    "## Lectures\n",
    "* Resources: IPython notebooks conatining notes and codes\n",
    "* Attendance will be taken before the commencement of the classes (no attendance boost at the end of the semester)\n",
    "\n",
    "## Collaboration policy\n",
    "* I encourage collaboration\n",
    "* **<span style=\"color:green\">OK</span>**: It takes you and your friend a few days to understand the problem given. You discuss your ideas with each other until you find a pretty good answer. After working with your friend, you sit down at your computer and type up that thought in your own words, maybe with a quick look at the notes you took.\n",
    "* **<span style=\"color:red\">NOT OK</span>**: It takes you and your friend a few days to understand the problem  given. Discuss your ideas with each other until you find a pretty good answer. Your friend types up their answers first. Since you helped them \n",
    "come up with the answers, you use their writing as a guide for your own.\n"
   ]
  },
  {
   "cell_type": "code",
   "execution_count": null,
   "id": "7cc31453",
   "metadata": {},
   "outputs": [],
   "source": []
  }
 ],
 "metadata": {
  "kernelspec": {
   "display_name": "Python 3 (ipykernel)",
   "language": "python",
   "name": "python3"
  },
  "language_info": {
   "codemirror_mode": {
    "name": "ipython",
    "version": 3
   },
   "file_extension": ".py",
   "mimetype": "text/x-python",
   "name": "python",
   "nbconvert_exporter": "python",
   "pygments_lexer": "ipython3",
   "version": "3.11.1"
  }
 },
 "nbformat": 4,
 "nbformat_minor": 5
}
