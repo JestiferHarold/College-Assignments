{
 "cells": [
  {
   "cell_type": "markdown",
   "id": "a1b8881d",
   "metadata": {},
   "source": [
    "## Circular Linked List\n",
    "* A circular linked list is a variation of a linked list in which all nodes are connected to form a circle.\n",
    "* Unlike a singly linked list, the last node points to the first node instead of NULL.\n",
    "\n",
    "### Types of Circular Linked Lists\n",
    "* Singly Circular Linked List: Each node has a single pointer to the next node, with the last node pointing to the first node.\n",
    "\n",
    "* Doubly Circular Linked List: Each node contains two pointers, one pointing to the next node and one to the previous node, forming a bidirectional loop\n",
    "\n",
    "### Advantages of Circular Linked List\n",
    "* In circular linked list there can be no starting or ending node, whole node can be traversed from any node. \n",
    "    * In order to traverse the circular linked list, only once we need to traverse entire list until the starting node is not traversed again. \n",
    "* Useful for applications requiring continuous iteration\n",
    "\n",
    "<img src=images/cll-2.png width=\"800\" height=\"800\">"
   ]
  },
  {
   "cell_type": "code",
   "execution_count": 1,
   "id": "2b7a6e14",
   "metadata": {},
   "outputs": [
    {
     "name": "stdout",
     "output_type": "stream",
     "text": [
      "1 -> (back to head)\n",
      "1 -> (back to head)\n"
     ]
    }
   ],
   "source": [
    "class Node:\n",
    "    def __init__(self, data):\n",
    "        self.data = data\n",
    "        self.next = None\n",
    "\n",
    "class CircularLinkedList:\n",
    "    def __init__(self):\n",
    "        self.head = None\n",
    "\n",
    "    def insertEnd(self, data):\n",
    "        new_node = Node(data)\n",
    "        if self.head is None:\n",
    "            self.head = new_node\n",
    "            self.head.next = self.head\n",
    "        else:\n",
    "            temp = self.head\n",
    "            while temp.next != self.head:\n",
    "                temp = temp.next\n",
    "            temp.next = new_node\n",
    "            new_node.next = self.head\n",
    "\n",
    "    def insertBeginning(self, data):\n",
    "        new_node = Node(data)\n",
    "        if self.head is None:\n",
    "            self.head = new_node\n",
    "            self.head.next = self.head\n",
    "        else:\n",
    "            temp = self.head\n",
    "            while temp.next != self.head:\n",
    "                temp = temp.next\n",
    "            temp.next = new_node\n",
    "            new_node.next = self.head\n",
    "            self.head = new_node\n",
    "\n",
    "    def deleteNode(self, key):\n",
    "        if self.head is None:\n",
    "            return\n",
    "        temp = self.head\n",
    "        prev = None\n",
    "        while True:\n",
    "            if temp.data == key:\n",
    "                if prev is not None:\n",
    "                    prev.next = temp.next\n",
    "                else:\n",
    "                    last = self.head\n",
    "                    while last.next != self.head:\n",
    "                        last = last.next\n",
    "                    last.next = self.head.next\n",
    "                    self.head = self.head.next\n",
    "                return\n",
    "            prev = temp\n",
    "            temp = temp.next\n",
    "            if temp == self.head:\n",
    "                break\n",
    "\n",
    "    def display(self):\n",
    "        if self.head is None:\n",
    "            print(\"List is empty\")\n",
    "            return\n",
    "        temp = self.head\n",
    "        while True:\n",
    "            print(temp.data, end=\" -> \")\n",
    "            temp = temp.next\n",
    "            if temp == self.head:\n",
    "                break\n",
    "        print(\"(back to head)\")\n",
    "\n",
    "cll = CircularLinkedList()\n",
    "cll.insertEnd(1)\n",
    "#cll.insertEnd(2)\n",
    "#cll.insertEnd(3)\n",
    "#cll.insertBeginning(0)\n",
    "cll.display()\n",
    "cll.deleteNode(1)\n"
   ]
  },
  {
   "cell_type": "code",
   "execution_count": null,
   "id": "c5ac0a6f",
   "metadata": {},
   "outputs": [],
   "source": []
  }
 ],
 "metadata": {
  "kernelspec": {
   "display_name": "Python 3 (ipykernel)",
   "language": "python",
   "name": "python3"
  },
  "language_info": {
   "codemirror_mode": {
    "name": "ipython",
    "version": 3
   },
   "file_extension": ".py",
   "mimetype": "text/x-python",
   "name": "python",
   "nbconvert_exporter": "python",
   "pygments_lexer": "ipython3",
   "version": "3.11.1"
  }
 },
 "nbformat": 4,
 "nbformat_minor": 5
}
