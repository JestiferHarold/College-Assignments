{
 "cells": [
  {
   "cell_type": "markdown",
   "id": "fbe59bcf",
   "metadata": {},
   "source": [
    "## What is Object-Oriented Programming?\n",
    "Classic “procedural” programming languages before C++ (such as C) often focused on the question “What should the program do next?” The way you structure a program in these languages is:\n",
    "1. Split it up into a set of tasks and subtasks\n",
    "2. Make functions for the tasks\n",
    "3. Instruct the computer to perform them in sequence\n",
    "\n",
    "With large amounts of data and/or large numbers of tasks, this makes for complex and unmaintainable programs.\n",
    "\n",
    "Consider the task of modeling the operation of a car. Such a program would have lots of separate variables storing information on various car parts, and there’d be no way to group together all the code that relates to, say, the wheels. It’s hard to keep all these variables and the connections between all the functions in mind.\n",
    "\n",
    "To manage this complexity, it’s nicer to package up self-sufficient, modular pieces of code. People think of the world in terms of interacting objects: we’d talk about interactions between the steering wheel, the pedals, the wheels, etc. OOP allows programmers to pack away details into neat, self-contained boxes (objects) so that they can think of the objects more abstractly\n",
    "and focus on the interactions between them. There are lots of definitions for OOP, but 3 primary features of it are:\n",
    "* **Encapsulation**: grouping related data and functions together as objects and defining an interface to those objects\n",
    "* **Inheritance**: allowing code to be reused between related types\n",
    "* **Polymorphism**: allowing a value to be one of several types, and determining at runtime which functions to call on it based on its type\n",
    "\n",
    "\n",
    "OOP is a paradigm that organizes data and behavior into \"objects,\" combining both state (attributes) and behavior (methods).\n",
    "* Class: Blueprint for objects.\n",
    "* Object: Instance of a class.\n",
    "\n",
    "A class defines a category, while an object is a specific instance of that class. Classes can be seen as templates for representing various concepts. \n",
    "\n",
    "An object represents an entity in the real world that can be distinctly identified from a class of objects with common properties. An object has a unique state and behavior\n",
    "* the state of an object consists of a set of data fields (properties) with their current values\n",
    "* the behavior of an object is defined by a set of instance methods\n",
    "\n",
    "Every object has\n",
    "    - a type\n",
    "    - an internal data representation \n",
    "    - a set of procedures for interaction with the object\n",
    "* an object is an instance of a type\n",
    "    - In python, 1234 is an instance of an int\n",
    "    - \"hello\" is an instance of a string\n",
    "    \n",
    "Objects are a data abstraction that captures\n",
    "* an internal representation through data attributes\n",
    "* an interface for interacting with object\n",
    "    - through methods (aka procedures/functions)\n",
    "    - defines behaviors but hides implementation\n",
    "\n",
    "A class provides a special type of methods called constructors which are invoked to construct objects from the class. Constructors are invoked when an object is created – they initialize objects to reference variables. A class may be declared without constructors: a no-arg default constructor with an empty body is implicitly declared in the class.\n",
    "\n",
    "### Advantages of OOP\n",
    "* bundle data into packages together with procedures that work on them through well-defined interfaces\n",
    "* divide-and-conquer development\n",
    "    - implement and test behavior of each class separately\n",
    "    - increased modularity reduces complexity\n",
    "* classes make it easy to reuse code\n",
    "    - many Python modules define new classes\n",
    "    - each class has a separate environment (no collision on function names)\n",
    "    - inheritance allows subclasses to redefine or extend a selected subset of a superclass’ behavior\n",
    "    \n",
    "#### What are attributes?\n",
    "Data and procedures that “belong” to the class\n",
    "* **Data attributes**\n",
    "    - think of data as other objects that make up the class\n",
    "    - for example, a coordinate is made up of two numbers\n",
    "* Methods (procedural attributes)\n",
    "    - think of methods as functions that only work with this class\n",
    "    - how to interact with the object\n",
    "    - for example you can define a distance between two coordinate objects but there is no meaning to a distance between two list objects\n",
    "\n",
    "#### What is a method?\n",
    "* Procedural attribute, like a function that works only with this class\n",
    "* Python always passes the object as the first argument\n",
    "    - convention is to use self as the name of the first argument of all methods\n",
    "* the “.” operator is used to access any attribute\n",
    "    - a data attribute of an object\n",
    "    - a method of an object"
   ]
  },
  {
   "cell_type": "code",
   "execution_count": null,
   "id": "ce1deec7",
   "metadata": {},
   "outputs": [],
   "source": [
    "# classes and objects\n",
    "class Dog:\n",
    "    '''\n",
    "    a constructor is a special type of function called to create an object. \n",
    "    It prepares the new object for use, often accepting arguments that the \n",
    "    constructor uses to set required member variables.\n",
    "    '''\n",
    "    \n",
    "    '''\n",
    "    self allows methods to refer to the specific object on which they are being called. \n",
    "    This is essential because each object can have different attributes and states.\n",
    "    \n",
    "    In Python, self must be explicitly declared as the first parameter of instance methods in a class.\n",
    "    \n",
    "    Although self is a widely used naming convention, it is not a reserved keyword. \n",
    "    You can use any other valid identifier (e.g., this, obj), but using self is strongly \n",
    "    recommended for readability and consistency.\n",
    "    '''\n",
    "    \n",
    "    def __init__(self, name, breed):\n",
    "        self.name = name\n",
    "        self.breed = breed\n",
    "\n",
    "    def bark(self):\n",
    "        print(f\"{self.breed} says Woof!\")\n",
    "\n",
    "myDog = Dog(\"Buddy\", \"Golden Retriever\")\n",
    "myDog.bark()  "
   ]
  },
  {
   "cell_type": "markdown",
   "id": "0e6a882d",
   "metadata": {},
   "source": [
    "In the above code\n",
    "* **Attributes**: name and breed that store information about a dog's name and its breed.\n",
    "* **Method**: bark(), which makes the dog \"bark\" by printing a message.\n",
    "* **Object Creation**: An instance of the Dog class named myDog is created with specific attributes.\n",
    "* **Method Call**: The bark() method is called on the myDog instance.\n",
    "\n",
    "* **class** keyword: Defines a new class called Dog.\n",
    "    * A class is a blueprint for creating objects. Here, the Dog class is the blueprint for creating dogs with specific attributes and behaviors.\n",
    "* **__init__** method: This is a special method called the constructor. It is automatically called when a new object (instance) of the class is created.\n",
    "    * Purpose: To initialize the attributes of the object.\n",
    "    * Parameters:\n",
    "        * self: Represents the instance of the class being created. It allows you to access attributes and methods within the class.\n",
    "        * name: The dog's name.\n",
    "        * breed: The dog's breed.\n",
    "* **self.name = name and self.breed = breed**\n",
    "    * These lines assign the values passed as arguments (name and breed) to the instance variables self.name and self.breed.\n",
    "    * The prefix self. ensures these variables are specific to the instance.\n",
    "\n",
    "* **bark** method: This is an instance method defined within the Dog class.\n",
    "* **Purpose**: To make the dog \"bark\" by printing a message that includes the dog's name.\n",
    "* How it works?\n",
    "    * self.name: Refers to the name attribute of the instance (the dog's name).\n",
    "    * print(f\"{self.name} says Woof!\"): Uses an f-string to format the output dynamically.\n",
    "\n",
    "* Object Creation:\n",
    "    * Dog(\"Buddy\", \"Golden Retriever\") calls the \\_\\_init\\_\\_ method.\n",
    "    * \"Buddy\" is passed as the name, and \"Golden Retriever\" is passed as the breed.\n",
    "    * The \\_\\_init\\_\\_ method initializes the name and breed attributes for the new object.\n",
    "\n",
    "* myDog:\n",
    "    * This is a reference to the newly created object of the Dog class.\n",
    "    * It stores the state (attributes) and behavior (methods) of the Dog instance.\n",
    "    \n",
    "* The bark method is called on the myDog object.\n",
    "* Inside the bark method, self refers to the myDog instance.\n",
    "* It accesses the name attribute of the myDog instance (self.name)."
   ]
  },
  {
   "cell_type": "code",
   "execution_count": null,
   "id": "789c77bc",
   "metadata": {},
   "outputs": [],
   "source": [
    "# Encapsulation\n",
    "class BankAccount:\n",
    "    def __init__(self,balance):\n",
    "        self.__balance = balance\n",
    "\n",
    "    def deposit(self, amount):\n",
    "        self.__balance += amount\n",
    "\n",
    "    def get_balance(self):\n",
    "        return self.__balance\n",
    "\n",
    "account = BankAccount(1000)\n",
    "account.deposit(500)\n",
    "print(account.get_balance()) "
   ]
  },
  {
   "cell_type": "markdown",
   "id": "5387173e",
   "metadata": {},
   "source": [
    "Encapsulation is an object-oriented programming (OOP) principle that bundles data and methods that operate on the data into a single unit (class), while restricting direct access to certain attributes to protect the integrity of the data. It allows controlled access to an object's data through methods.\n",
    "\n",
    "**self.\\_\\_balance**: The attribute **\\_\\_balance** is private because it is prefixed with double underscores (**\\_\\_**).\n",
    "\n",
    "    * Private attributes cannot be accessed directly outside the class.\n",
    "    * This is the key feature of encapsulation: it hides sensitive data (like bank balance) from direct access.\n",
    "    * Protecting the balance from unintended modifications by restricting direct access.\n",
    "    \n",
    "deposit method provides a controlled way to update the private attribute **\\_\\_balance**. It ensures only valid operations (like deposits) can modify the balance. External code cannot directly change **\\_\\_balance**, which prevents accidental or malicious changes.\n",
    "\n",
    "* **Name mangling**:\\\n",
    "The name mangling process helps to access the class variables from outside the class. The class variables can be accessed by adding *_classname* to it. The name mangling is closest to private not exactly private. \\\n",
    "Even though **\\_\\_balance** is private, Python allows **name mangling** to access it indirectly. However, accessing private attributes this way is not recommended, as it violates the principle of encapsulation."
   ]
  },
  {
   "cell_type": "code",
   "execution_count": null,
   "id": "b06a1495",
   "metadata": {},
   "outputs": [],
   "source": [
    "print(account._BankAccount__balance)"
   ]
  },
  {
   "cell_type": "code",
   "execution_count": null,
   "id": "7165a04b",
   "metadata": {},
   "outputs": [],
   "source": [
    "# Access Modifiers\n",
    "class Test:\n",
    "    public_var = \"I am public\"\n",
    "    _protected_var = \"I am protected\"\n",
    "    __private_var = \"I am private\"\n",
    "\n",
    "test = Test()\n",
    "print(test.public_var)  # Accessible\n",
    "print(test._protected_var)  # Accessible but should not be used outside\n",
    "# print(test.__private_var)  # Error"
   ]
  },
  {
   "cell_type": "markdown",
   "id": "4e5611c0",
   "metadata": {},
   "source": [
    "This class Test contains three class-level variables, each showcasing a different level of access control:\n",
    "1. Public Variable (**public_var**)\n",
    "    * Syntax: Defined normally without any prefix.\n",
    "    * Access: Fully accessible inside and outside the class.\n",
    "        * Variable can be accessed and modified from both inside and outside the class\n",
    "        * Inside the class: The variable can be directly used or modified within the methods of the class where it is defined.\n",
    "        * Outside the class: The variable can be accessed and modified directly from an object of the class, without the need for any special methods or restrictions.\n",
    "    * Purpose: Used when you intend the variable to be accessed without restrictions. \n",
    "    \n",
    "2. Protected Variable (**_protected_var**)\n",
    "    * Syntax: Single underscore (*_*) prefix.\n",
    "    * Access: It can be accessed outside the class but follows a convention that it should not be directly accessed.\n",
    "        * It's meant for internal use within the class and its subclasses.\n",
    "    * Purpose: To indicate to programmers that the variable is \"protected\" and should not be modified/accessed directly.\n",
    "    * Note: This is just a convention, not enforced by Python. \n",
    "    \n",
    "3. Private Variable (**__private_var**)\n",
    "    * Syntax: Double underscore (**__**) prefix.\n",
    "    * Access: It cannot be accessed directly outside the class.\n",
    "        * Private variables are meant to be manipulated only by methods defined within the class. This ensures the variable's integrity and encapsulation.\n",
    "        * External code cannot directly access or modify private variables. If you try to do so, it will result in an AttributeError.\n",
    "        * Purpose: To hide sensitive data or internal implementation details from the external world.\n",
    "        \n",
    "| Variable Type | Syntax             | Access Level                | Intended Use                    |\n",
    "|---------------|--------------------|-----------------------------|---------------------------------|\n",
    "| **Public**    | `public_var`       | Fully accessible anywhere   | General use                    |\n",
    "| **Protected** | `_protected_var`   | Accessible (by convention)  | Internal use or subclass access |\n",
    "| **Private**   | `__private_var`    | Restricted (name mangling)  | Sensitive/internal use          |\n"
   ]
  },
  {
   "cell_type": "code",
   "execution_count": null,
   "id": "89eef4d4",
   "metadata": {},
   "outputs": [],
   "source": [
    "class Test:\n",
    "    def __init__(self):\n",
    "        self.__private_var = \"I am private\"  # Private variable\n",
    "        self.public = \"I am public\"\n",
    "        \n",
    "    def show_private(self):\n",
    "        print(self.__private_var)  # Accessed inside the class\n",
    "\n",
    "test = Test()\n",
    "\n",
    "# Accessing inside the class\n",
    "#test.show_private()  # Allowed\n",
    "#print(test._Test__private_var)\n",
    "print(test.public)\n",
    "print(test.__private_var)\n",
    "#print(test._Test__private_var) "
   ]
  },
  {
   "cell_type": "markdown",
   "id": "280970c4",
   "metadata": {},
   "source": [
    "Avoid using name mangling and if you really want to access private variables use getter and setter functions"
   ]
  },
  {
   "cell_type": "code",
   "execution_count": null,
   "id": "a947d6e7",
   "metadata": {},
   "outputs": [],
   "source": [
    "class Test:\n",
    "    def __init__(self):\n",
    "        self.__private_var = \"I am private\"\n",
    "\n",
    "    def get_private_var(self):\n",
    "        return self.__private_var\n",
    "\n",
    "    def set_private_var(self, value):\n",
    "        self.__private_var = value\n",
    "\n",
    "# Access private variable through getter and setter\n",
    "test = Test()\n",
    "print(test.get_private_var())  # I am private\n",
    "test.set_private_var(\"Updated value\")\n",
    "print(test.get_private_var())  # Updated value"
   ]
  },
  {
   "cell_type": "markdown",
   "id": "1f2a1108",
   "metadata": {},
   "source": [
    "## Inheritance\n",
    "Inheritance is a mechanism in object-oriented programming that allows one class (child or derived class) to inherit the properties and methods of another class (parent or base class).\n",
    "\n",
    "**Parent Class**: The class whose properties and methods are inherited.\\\n",
    "**Child Class**: The class that inherits from the parent class.\n",
    "\n",
    "### Types of Inheritance\n",
    "**Single Inheritance**: One child class inherits from one parent class.\\\n",
    "**Multiple Inheritance**: One child class inherits from multiple parent classes.\\\n",
    "**Multilevel Inheritance**: A class inherits from another child class.\\\n",
    "**Hierarchical Inheritance**: Multiple child classes inherit from a single parent class. \\\n",
    "**Hybrid Inheritance**: A mix of two or more types of inheritance, such as combining hierarchical and multiple inheritance.\n",
    "\n",
    "<img src=images/types-of-inheritance-in-python.png width=\"800\" height=\"800\">\n",
    "<a href=\"https://www.scientecheasy.com/2023/09/types-of-inheritance-in-python.html/\">Image source</a>"
   ]
  },
  {
   "cell_type": "code",
   "execution_count": 1,
   "id": "00fcb12c",
   "metadata": {},
   "outputs": [
    {
     "name": "stdout",
     "output_type": "stream",
     "text": [
      "I can move\n",
      "I can bark\n"
     ]
    }
   ],
   "source": [
    "# Parent Class\n",
    "class Animal:\n",
    "    def move(self):\n",
    "        return \"I can move\"\n",
    "\n",
    "# Child Class\n",
    "class Dog(Animal):\n",
    "    def bark(self):\n",
    "        return \"I can bark\"\n",
    "\n",
    "\n",
    "dog = Dog()\n",
    "print(dog.move())  \n",
    "print(dog.bark()) "
   ]
  },
  {
   "cell_type": "markdown",
   "id": "d999807d",
   "metadata": {},
   "source": [
    "The Dog class inherits from the Animal class (Dog(Animal)). This means Dog automatically gets access to all the methods and attributes of Animal unless they are private. The Dog class defines its own method, bark(), which adds behavior specific to dogs.\n",
    "\n",
    "The Dog class is linked to the Animal class through inheritance. When an object of Dog is created:\n",
    "* Python first looks for attributes and methods in the Dog class.\n",
    "* If it doesn’t find the requested attribute or method in Dog, it searches in the Animal class (its parent).\n",
    "* This is achieved through the Method Resolution Order (MRO).\n",
    "    * MRO stands for Method Resolution Order. It is the order in which Python looks for a method in a hierarchy of classes. MRO follows a specific sequence to determine which method to invoke when it encounters multiple classes with the same method name.\n",
    "\n",
    "When the Dog object is created:\n",
    "* Python allocates memory for the new object.\n",
    "* The \\_\\_init\\_\\_() method of the parent class is implicitly called (if no constructor is defined in the child class).\n",
    "    * In Python, the \\_\\_init\\_\\_() method is a constructor used to initialize an object's state. \n",
    "    * If the child class defines its own \\_\\_init\\_\\_() method, the parent's \\_\\_init\\_\\_() method is not called automatically.\n",
    "    * Instead, you need to explicitly call the parent class's constructor using the **super()** function or the class name.\n",
    "* The new dog object is now linked to both the Dog and Animal classes.\n",
    "\n",
    "print(dog.move())\n",
    "* Python checks if the move() method is defined in the Dog class. Since it isn’t, Python searches in the parent class (Animal).\n",
    "* The move() method of the Animal class is executed, and it returns the string \"I can move\".\n",
    "* The Dog class inherits the move() method from the Animal class, so the dog object can directly use it without redefining it in the child class.\n",
    "\n",
    "print(dog.bark())\n",
    "* Python checks if the bark() method is defined in the Dog class. Since it is, Python executes it directly.\n",
    "* The method returns the string \"I can bark\"."
   ]
  },
  {
   "cell_type": "code",
   "execution_count": 9,
   "id": "65915a97",
   "metadata": {},
   "outputs": [
    {
     "name": "stdout",
     "output_type": "stream",
     "text": [
      "Buddy can move\n",
      "Buddy can bark\n"
     ]
    }
   ],
   "source": [
    "# Parent Class with Attributes\n",
    "class Animal:\n",
    "    def __init__(self, name):\n",
    "        self.name = name\n",
    "\n",
    "    def move(self):\n",
    "        return f\"{self.name} can move\"\n",
    "\n",
    "# Child Class\n",
    "class Dog(Animal):\n",
    "    def bark(self):\n",
    "        return f\"{self.name} can bark\"\n",
    "\n",
    "d = Dog(\"Buddy\")\n",
    "print(d.move())  \n",
    "print(d.bark()) "
   ]
  },
  {
   "cell_type": "markdown",
   "id": "00fc534b",
   "metadata": {},
   "source": [
    "* The \\_\\_init\\_\\_() method in the parent class initializes the name attribute.\n",
    "* The child class Dog uses the parent’s constructor (\\_\\_init\\_\\_()) to set up its name attribute.\n",
    "* Both move() (inherited) and bark() (child-specific) methods can access the name attribute."
   ]
  },
  {
   "cell_type": "code",
   "execution_count": 10,
   "id": "af02dce4",
   "metadata": {},
   "outputs": [
    {
     "ename": "AttributeError",
     "evalue": "'Dog' object has no attribute 'name'",
     "output_type": "error",
     "traceback": [
      "\u001b[1;31m---------------------------------------------------------------------------\u001b[0m",
      "\u001b[1;31mAttributeError\u001b[0m                            Traceback (most recent call last)",
      "Cell \u001b[1;32mIn[10], line 19\u001b[0m\n\u001b[0;32m     16\u001b[0m         \u001b[38;5;28;01mreturn\u001b[39;00m \u001b[38;5;124mf\u001b[39m\u001b[38;5;124m\"\u001b[39m\u001b[38;5;132;01m{\u001b[39;00m\u001b[38;5;28mself\u001b[39m\u001b[38;5;241m.\u001b[39mname\u001b[38;5;132;01m}\u001b[39;00m\u001b[38;5;124m can bark\u001b[39m\u001b[38;5;124m\"\u001b[39m\n\u001b[0;32m     18\u001b[0m dog \u001b[38;5;241m=\u001b[39m Dog(\u001b[38;5;124m\"\u001b[39m\u001b[38;5;124mBuddy\u001b[39m\u001b[38;5;124m\"\u001b[39m)\n\u001b[1;32m---> 19\u001b[0m \u001b[38;5;28mprint\u001b[39m(\u001b[43mdog\u001b[49m\u001b[38;5;241;43m.\u001b[39;49m\u001b[43mbark\u001b[49m\u001b[43m(\u001b[49m\u001b[43m)\u001b[49m)  \n\u001b[0;32m     20\u001b[0m \u001b[38;5;28mprint\u001b[39m(dog\u001b[38;5;241m.\u001b[39mmove())  \n",
      "Cell \u001b[1;32mIn[10], line 16\u001b[0m, in \u001b[0;36mDog.bark\u001b[1;34m(self)\u001b[0m\n\u001b[0;32m     15\u001b[0m \u001b[38;5;28;01mdef\u001b[39;00m \u001b[38;5;21mbark\u001b[39m(\u001b[38;5;28mself\u001b[39m):\n\u001b[1;32m---> 16\u001b[0m     \u001b[38;5;28;01mreturn\u001b[39;00m \u001b[38;5;124mf\u001b[39m\u001b[38;5;124m\"\u001b[39m\u001b[38;5;132;01m{\u001b[39;00m\u001b[38;5;28;43mself\u001b[39;49m\u001b[38;5;241;43m.\u001b[39;49m\u001b[43mname\u001b[49m\u001b[38;5;132;01m}\u001b[39;00m\u001b[38;5;124m can bark\u001b[39m\u001b[38;5;124m\"\u001b[39m\n",
      "\u001b[1;31mAttributeError\u001b[0m: 'Dog' object has no attribute 'name'"
     ]
    }
   ],
   "source": [
    "# Parent Class\n",
    "class Animal:\n",
    "    def __init__(self, name):\n",
    "        self.name = name\n",
    "\n",
    "    def move(self):\n",
    "        return f\"{self.name} can move\"\n",
    "\n",
    "# Child Class\n",
    "class Dog(Animal):\n",
    "    def __init__(self, name):\n",
    "        # Child-specific initialization\n",
    "        self.breed = name\n",
    "\n",
    "    def bark(self):\n",
    "        return f\"{self.name} can bark\"\n",
    "\n",
    "dog = Dog(\"Buddy\")\n",
    "print(dog.bark())  \n",
    "print(dog.move())  "
   ]
  },
  {
   "cell_type": "code",
   "execution_count": 11,
   "id": "6684196f",
   "metadata": {},
   "outputs": [
    {
     "name": "stdout",
     "output_type": "stream",
     "text": [
      "Buddy can move\n",
      "Buddy, a Golden Retriever, can bark\n"
     ]
    }
   ],
   "source": [
    "# Parent Class\n",
    "class Animal:\n",
    "    def __init__(self, name):\n",
    "        self.name = name\n",
    "\n",
    "    def move(self):\n",
    "        return f\"{self.name} can move\"\n",
    "\n",
    "# Child Class\n",
    "class Dog(Animal):\n",
    "    def __init__(self, name, breed):\n",
    "        super().__init__(name)  # Call the parent class's constructor\n",
    "        self.breed = breed\n",
    "\n",
    "    def bark(self):\n",
    "        return f\"{self.name}, a {self.breed}, can bark\"\n",
    "\n",
    "dog = Dog(\"Buddy\", \"Golden Retriever\")\n",
    "print(dog.move())  \n",
    "print(dog.bark())  "
   ]
  },
  {
   "cell_type": "markdown",
   "id": "bacf0098",
   "metadata": {},
   "source": [
    "### Overriding Methods in the Child Class\n",
    "The child class can redefine (override) methods from the parent class to provide specialized behavior.\n",
    "\n",
    "* Here, the Dog class overrides the move() method of the Animal class to provide a specific implementation for dogs.\n",
    "* When dog.move() is called, Python executes the overridden method in Dog instead of the one in Animal."
   ]
  },
  {
   "cell_type": "code",
   "execution_count": 12,
   "id": "bdc8e152",
   "metadata": {},
   "outputs": [
    {
     "name": "stdout",
     "output_type": "stream",
     "text": [
      "Buddy runs fast\n"
     ]
    }
   ],
   "source": [
    "# Parent Class with Attributes\n",
    "class Animal:\n",
    "    def __init__(self, name):\n",
    "        self.name = name\n",
    "\n",
    "    def move(self):\n",
    "        return f\"{self.name} can move\"\n",
    "\n",
    "class Dog(Animal):\n",
    "    def move(self):  # Overriding the parent method\n",
    "        return f\"{self.name} runs fast\"\n",
    "\n",
    "# Usage\n",
    "dog = Dog(\"Buddy\")\n",
    "print(dog.move()) "
   ]
  },
  {
   "cell_type": "code",
   "execution_count": 13,
   "id": "d3616c38",
   "metadata": {},
   "outputs": [
    {
     "name": "stdout",
     "output_type": "stream",
     "text": [
      "I can fly\n",
      "I can swim\n"
     ]
    }
   ],
   "source": [
    "# Parent Classes\n",
    "class Flyer:\n",
    "    def fly(self):\n",
    "        return \"I can fly\"\n",
    "\n",
    "class Swimmer:\n",
    "    def swim(self):\n",
    "        return \"I can swim\"\n",
    "\n",
    "# Child Class\n",
    "class Duck(Flyer, Swimmer):\n",
    "    pass\n",
    "\n",
    "duck = Duck()\n",
    "print(duck.fly())   \n",
    "print(duck.swim())  "
   ]
  },
  {
   "cell_type": "code",
   "execution_count": 14,
   "id": "ac5ac42c",
   "metadata": {},
   "outputs": [
    {
     "name": "stdout",
     "output_type": "stream",
     "text": [
      "I can breathe\n",
      "I can move\n",
      "I can bark\n"
     ]
    }
   ],
   "source": [
    "# Grandparent Class\n",
    "class LivingBeing:\n",
    "    def breathe(self):\n",
    "        return \"I can breathe\"\n",
    "\n",
    "# Parent Class\n",
    "class Animal(LivingBeing):\n",
    "    def move(self):\n",
    "        return \"I can move\"\n",
    "\n",
    "# Child Class\n",
    "class Dog(Animal):\n",
    "    def bark(self):\n",
    "        return \"I can bark\"\n",
    "\n",
    "dog = Dog()\n",
    "print(dog.breathe())  \n",
    "print(dog.move())     \n",
    "print(dog.bark())    "
   ]
  },
  {
   "cell_type": "code",
   "execution_count": 15,
   "id": "cc2faa40",
   "metadata": {},
   "outputs": [
    {
     "name": "stdout",
     "output_type": "stream",
     "text": [
      "I can move\n",
      "I can bark\n",
      "I can move\n",
      "I can meow\n"
     ]
    }
   ],
   "source": [
    "# Parent Class\n",
    "class Animal:\n",
    "    def move(self):\n",
    "        return \"I can move\"\n",
    "\n",
    "# Child Classes\n",
    "class Dog(Animal):\n",
    "    def bark(self):\n",
    "        return \"I can bark\"\n",
    "\n",
    "class Cat(Animal):\n",
    "    def meow(self):\n",
    "        return \"I can meow\"\n",
    "\n",
    "dog = Dog()\n",
    "cat = Cat()\n",
    "print(dog.move()) \n",
    "print(dog.bark())  \n",
    "print(cat.move())  \n",
    "print(cat.meow())  "
   ]
  },
  {
   "cell_type": "code",
   "execution_count": 16,
   "id": "7c170ff2",
   "metadata": {},
   "outputs": [
    {
     "name": "stdout",
     "output_type": "stream",
     "text": [
      "I can move\n",
      "I can fly\n",
      "I can lay eggs\n",
      "I can chirp\n"
     ]
    }
   ],
   "source": [
    "# Base Classes\n",
    "class Animal:\n",
    "    def move(self):\n",
    "        return \"I can move\"\n",
    "\n",
    "class Flyer:\n",
    "    def fly(self):\n",
    "        return \"I can fly\"\n",
    "\n",
    "# Intermediate Class\n",
    "class Bird(Animal, Flyer):\n",
    "    def lay_eggs(self):\n",
    "        return \"I can lay eggs\"\n",
    "\n",
    "# Child Class\n",
    "class Sparrow(Bird):\n",
    "    def chirp(self):\n",
    "        return \"I can chirp\"\n",
    "\n",
    "sparrow = Sparrow()\n",
    "print(sparrow.move())     \n",
    "print(sparrow.fly())       \n",
    "print(sparrow.lay_eggs()) \n",
    "print(sparrow.chirp())     "
   ]
  },
  {
   "cell_type": "code",
   "execution_count": 17,
   "id": "82d3a2b7",
   "metadata": {},
   "outputs": [
    {
     "name": "stdout",
     "output_type": "stream",
     "text": [
      "This animal eats food.\n",
      "This dog barks.\n"
     ]
    }
   ],
   "source": [
    "# Inheritance\n",
    "class Animal:\n",
    "    def eat(self):\n",
    "        print(\"This animal eats food.\")\n",
    "\n",
    "class Dog(Animal):\n",
    "    def bark(self):\n",
    "        print(\"This dog barks.\")\n",
    "\n",
    "dog = Dog()\n",
    "dog.eat()  \n",
    "dog.bark()  "
   ]
  },
  {
   "cell_type": "markdown",
   "id": "0c460597",
   "metadata": {},
   "source": [
    "### Polymorphism\n",
    "Polymorphism is a core concept in object-oriented programming (OOP) that allows methods, objects, or functions to take on multiple forms. The word \"polymorphism\" means \"many shapes\" in Greek. In programming, it allows objects of different classes to be treated as objects of a common superclass.\n",
    "\n",
    "Key Features of Polymorphism\n",
    "* **Method Overriding**: A subclass can provide a specific implementation of a method that is already defined in its superclass.\n",
    "* **Method Overloading**: Multiple methods in the same class share the same name but differ in their parameters.\n",
    "* **Operator Overloading**: The same operator can behave differently with different types of operands.\n",
    "* **Duck Typing (Python-Specific)**: If an object behaves like a certain type, it is treated as that type, regardless of its actual class."
   ]
  },
  {
   "cell_type": "code",
   "execution_count": 33,
   "id": "f2f80b17",
   "metadata": {},
   "outputs": [
    {
     "name": "stdout",
     "output_type": "stream",
     "text": [
      "Woof!\n",
      "Meow!\n",
      "I make a sound\n"
     ]
    }
   ],
   "source": [
    "# Polymorphism Through Method Overriding\n",
    "class Animal:\n",
    "    def speak(self):\n",
    "        return \"I make a sound\"\n",
    "\n",
    "class Dog(Animal):\n",
    "    def speak(self):\n",
    "        return \"Woof!\"\n",
    "\n",
    "class Cat(Animal):\n",
    "    def speak(self):\n",
    "        return \"Meow!\"\n",
    "\n",
    "animals = [Dog(), Cat(), Animal()]\n",
    "for animal in animals:\n",
    "    print(animal.speak())"
   ]
  },
  {
   "cell_type": "code",
   "execution_count": 19,
   "id": "42277a25",
   "metadata": {},
   "outputs": [
    {
     "name": "stdout",
     "output_type": "stream",
     "text": [
      "5\n",
      "8\n"
     ]
    }
   ],
   "source": [
    "# Polymorphism Through Method Overloading\n",
    "# Python does not natively support method overloading, \n",
    "# but you can achieve it using default arguments or variable-length arguments.\n",
    "\n",
    "class Calculator:\n",
    "    def add(self, a, b=0):\n",
    "        return a + b\n",
    "\n",
    "calc = Calculator()\n",
    "print(calc.add(5))        # Calls add with one argument\n",
    "print(calc.add(5, 3))     # Calls add with two arguments"
   ]
  },
  {
   "cell_type": "code",
   "execution_count": 35,
   "id": "c3fe5608",
   "metadata": {},
   "outputs": [
    {
     "name": "stdout",
     "output_type": "stream",
     "text": [
      "point(4, 6)\n"
     ]
    }
   ],
   "source": [
    "# Polymorphism Through Operator Overloading\n",
    "# You can redefine the behavior of operators for custom classes using special methods like __add__, __sub__, etc.\n",
    "\n",
    "class Point:\n",
    "    def __init__(self, x, y):\n",
    "        self.x = x\n",
    "        self.y = y\n",
    "\n",
    "    def __add__(self, other):\n",
    "        return Point(self.x + other.x, self.y + other.y)\n",
    "\n",
    "    def __str__(self):\n",
    "        return f\"point({self.x}, {self.y})\"\n",
    "\n",
    "p1 = Point(1, 2)\n",
    "p2 = Point(3, 4)\n",
    "print(p1 + p2)  # Calls __add__"
   ]
  },
  {
   "cell_type": "markdown",
   "id": "a8fe8e87",
   "metadata": {},
   "source": [
    "This code demonstrates operator overloading in Python using the Point class. Operator overloading allows you to redefine the behavior of standard operators (\\+, \\-, \\*, etc.) for custom classes. \n",
    "\n",
    "* The Point class represents a point in 2D space with two attributes: x (the x-coordinate) and y (the y-coordinate).\n",
    "* The \\_\\_init\\_\\_ method initializes these attributes when a Point object is created.\n",
    "* \\_\\_add\\_\\_ is a special method in Python that is called when the + operator is used with two objects.\n",
    "* Parameters of the method:\n",
    "    * self: The first operand (e.g., p1 in p1 + p2).\n",
    "    * other: The second operand (e.g., p2 in p1 + p2).\n",
    "* The function\n",
    "    * Adds the x attributes of self and other to produce the new x-coordinate.\n",
    "    * Adds the y attributes of self and other to produce the new y-coordinate.\n",
    "    * Returns a new Point object with these calculated coordinates.\n",
    "    \n",
    "* self: Refers to the object that calls the \\_\\_add\\_\\_ method, which is the first operand in the operation (p1 in p1 + p2).\n",
    "* other: Represents the second operand in the operation (p2 in p1 + p2).\n",
    "\n",
    "* self.x: Refers to the x value of the first object (p1).\n",
    "* other.x: Refers to the x value of the second object (p2).\n",
    "\n",
    "* If you didn't use other and tried to hardcode values or work only with self, the method would lose its flexibility. You wouldn't be able to dynamically handle addition with different objects, which is the essence of operator overloading."
   ]
  },
  {
   "cell_type": "code",
   "execution_count": 7,
   "id": "d2a337f1",
   "metadata": {},
   "outputs": [
    {
     "name": "stdout",
     "output_type": "stream",
     "text": [
      "Caw!\n",
      "hello\n",
      "Chirp!\n",
      "hello\n"
     ]
    }
   ],
   "source": [
    "# Polymorphism\n",
    "class Bird:\n",
    "    def sound(self):\n",
    "        print(\"Bird makes sound\")\n",
    "    def fun(self):\n",
    "        print(\"hello\")\n",
    "\n",
    "class Crow(Bird):\n",
    "    def sound(self):\n",
    "        print(\"Caw!\")\n",
    "\n",
    "class Sparrow(Bird):\n",
    "    def sound(self):\n",
    "        print(\"Chirp!\")\n",
    "\n",
    "birds = [Crow(), Sparrow()]\n",
    "for bird in birds:\n",
    "    bird.sound()\n",
    "    bird.fun()"
   ]
  },
  {
   "cell_type": "code",
   "execution_count": 21,
   "id": "586d1ebd",
   "metadata": {},
   "outputs": [
    {
     "name": "stdout",
     "output_type": "stream",
     "text": [
      "Flapping wings!\n",
      "Zooming through the sky!\n"
     ]
    }
   ],
   "source": [
    "# Polymorphism Through Duck Typing\n",
    "# Python’s dynamic nature allows objects of different classes to be used \n",
    "# interchangeably as long as they provide the required methods.\n",
    "\n",
    "class Bird:\n",
    "    def fly(self):\n",
    "        return \"Flapping wings!\"\n",
    "\n",
    "class Plane:\n",
    "    def fly(self):\n",
    "        return \"Zooming through the sky!\"\n",
    "\n",
    "def lift_off(entity):\n",
    "    print(entity.fly())\n",
    "\n",
    "lift_off(Bird())  # Works because Bird has a fly method\n",
    "lift_off(Plane())  # Works because Plane has a fly method"
   ]
  },
  {
   "cell_type": "markdown",
   "id": "ffacedc6",
   "metadata": {},
   "source": [
    "Here, a function, lift_off, is defined to work with any object that has a fly method. It does not check the object's type (e.g., Bird or Plane), but simply calls entity.fly()\n",
    "\n",
    "In Duck Typing, the function doesn't care whether entity is an instance of Bird, Plane, or any other class, as long as it provides a fly method.\n",
    "\n",
    "lift_off(Bird()):\n",
    "* Bird() creates an instance of the Bird class.\n",
    "* The lift_off function is called with this instance.\n",
    "* Inside lift_off, entity.fly() resolves to Bird.fly(), which returns \"Flapping wings!\".\n",
    "* The string \"Flapping wings!\" is printed.\n",
    "\n",
    "lift_off(Plane()):\n",
    "* Plane() creates an instance of the Plane class.\n",
    "* The lift_off function is called with this instance.\n",
    "* Inside lift_off, entity.fly() resolves to Plane.fly(), which returns \"Zooming through the sky!\"."
   ]
  },
  {
   "cell_type": "code",
   "execution_count": 22,
   "id": "d1fd75ed",
   "metadata": {},
   "outputs": [
    {
     "name": "stdout",
     "output_type": "stream",
     "text": [
      "Caw!\n",
      "Chirp!\n"
     ]
    }
   ],
   "source": [
    "# Polymorphism\n",
    "class Bird:\n",
    "    def sound(self):\n",
    "        print(\"Bird makes sound\")\n",
    "\n",
    "class Crow(Bird):\n",
    "    def sound(self):\n",
    "        print(\"Caw!\")\n",
    "\n",
    "class Sparrow(Bird):\n",
    "    def sound(self):\n",
    "        print(\"Chirp!\")\n",
    "\n",
    "birds = [Crow(), Sparrow()]\n",
    "for bird in birds:\n",
    "    bird.sound()"
   ]
  },
  {
   "cell_type": "code",
   "execution_count": 8,
   "id": "a064a261",
   "metadata": {},
   "outputs": [
    {
     "ename": "TypeError",
     "evalue": "'Sparrow' object is not iterable",
     "output_type": "error",
     "traceback": [
      "\u001b[1;31m---------------------------------------------------------------------------\u001b[0m",
      "\u001b[1;31mTypeError\u001b[0m                                 Traceback (most recent call last)",
      "Cell \u001b[1;32mIn[8], line 18\u001b[0m\n\u001b[0;32m     14\u001b[0m         \u001b[38;5;28mprint\u001b[39m(\u001b[38;5;124m\"\u001b[39m\u001b[38;5;124mChirp!\u001b[39m\u001b[38;5;124m\"\u001b[39m)\n\u001b[0;32m     17\u001b[0m birds \u001b[38;5;241m=\u001b[39m Sparrow()       \n\u001b[1;32m---> 18\u001b[0m \u001b[38;5;28;01mfor\u001b[39;00m bird \u001b[38;5;129;01min\u001b[39;00m birds:\n\u001b[0;32m     19\u001b[0m     bird\u001b[38;5;241m.\u001b[39msound()\n\u001b[0;32m     20\u001b[0m     bird\u001b[38;5;241m.\u001b[39mfun()\n",
      "\u001b[1;31mTypeError\u001b[0m: 'Sparrow' object is not iterable"
     ]
    }
   ],
   "source": [
    "# Polymorphism\n",
    "class Bird:\n",
    "    def sound(self):\n",
    "        print(\"Bird makes sound\")\n",
    "    def fun(self):\n",
    "        print(\"hello\")\n",
    "\n",
    "class Crow(Bird):\n",
    "    def sound(self):\n",
    "        print(\"Caw!\")\n",
    "\n",
    "class Sparrow(Bird):\n",
    "    def sound(self):\n",
    "        print(\"Chirp!\")\n",
    "\n",
    "\n",
    "birds = Sparrow()       \n",
    "for bird in birds:\n",
    "    bird.sound()\n",
    "    bird.fun()"
   ]
  },
  {
   "cell_type": "markdown",
   "id": "9ab61d37",
   "metadata": {},
   "source": [
    "The error \"TypeError: 'Sparrow' object is not iterable\" occurs because you are attempting to iterate over an object of class Sparrow, which is not a collection or iterable object. In Python, objects can only be iterated over if they implement the \\_\\_iter\\_\\_() or \\_\\_getitem\\_\\_() method, which is not the case here.\n",
    "\n",
    "The variable birds is an instance of the Sparrow class.\n",
    "\n",
    "You are attempting to use a for loop on birds, which implies Python expects birds to be iterable (e.g., a list, tuple, or any object implementing the iterable protocol). Since Sparrow is not iterable, Python raises a TypeError."
   ]
  },
  {
   "cell_type": "code",
   "execution_count": 23,
   "id": "5205abe1",
   "metadata": {},
   "outputs": [
    {
     "name": "stdout",
     "output_type": "stream",
     "text": [
      "File closed.\n"
     ]
    }
   ],
   "source": [
    "# Constructor and Destructor\n",
    "class FileHandler:\n",
    "    def __init__(self, filename):\n",
    "        self.file = open(filename, 'w')\n",
    "\n",
    "    def __del__(self):\n",
    "        self.file.close()\n",
    "        print(\"File closed.\")\n",
    "\n",
    "handler = FileHandler(\"example.txt\")\n",
    "del handler  "
   ]
  },
  {
   "cell_type": "markdown",
   "id": "584f77df",
   "metadata": {},
   "source": [
    "A destructor in Python is a special method defined by the \\_\\_del\\_\\_ method. It is called when an object is about to be destroyed, which typically happens when there are no more references to the object, and the garbage collector deallocates its memory.\n",
    "\n",
    "The \\_\\_del\\_\\_ method allows you to clean up resources (e.g., closing files, releasing database connections) that the object was using.\n",
    "\n",
    "It is automatically invoked when an object goes out of scope or is explicitly deleted using del.\n",
    "\n",
    "Destructors are not guaranteed to be called immediately after an object goes out of scope due to Python's garbage collection mechanism.\n",
    "\n",
    "### Garbage collection\n",
    "Python’s memory allocation and deallocation method is automatic. The user does not have to preallocate or deallocate memory similar to using dynamic memory allocation in languages such as C or C++. \n",
    "\n",
    "Python uses two strategies for memory allocation: \n",
    "1. Reference counting\n",
    "2. Garbage collection\n",
    "\n",
    "#### Reference counting\n",
    "Python and various other programming languages employ reference counting, a memory management approach, to automatically manage memory by tracking how many times an object is referenced. A reference count, or the number of references that point to an object, is a property of each object in the Python language. When an object’s reference count reaches zero, it becomes un-referenceable and its memory can be freed up."
   ]
  },
  {
   "cell_type": "code",
   "execution_count": 24,
   "id": "78f0f5e1",
   "metadata": {},
   "outputs": [],
   "source": [
    "# Create an object\n",
    "x = [1, 2, 3]\n",
    "\n",
    "# Increment reference count\n",
    "y = x\n",
    "\n",
    "# Decrement reference count\n",
    "y = None"
   ]
  },
  {
   "cell_type": "code",
   "execution_count": 25,
   "id": "c126d0d3",
   "metadata": {},
   "outputs": [
    {
     "name": "stdout",
     "output_type": "stream",
     "text": [
      "[1, 2, 3, [4, 5, 6, [...]]]\n",
      "[4, 5, 6, [1, 2, 3, [...]]]\n"
     ]
    }
   ],
   "source": [
    "# Create two objects that refer to each other\n",
    "x = [1, 2, 3]\n",
    "y = [4, 5, 6]\n",
    "x.append(y)\n",
    "y.append(x)\n",
    "\n",
    "print(x)\n",
    "print(y)"
   ]
  },
  {
   "cell_type": "code",
   "execution_count": 26,
   "id": "504af107",
   "metadata": {},
   "outputs": [
    {
     "name": "stdout",
     "output_type": "stream",
     "text": [
      "Reference count of x: 2\n"
     ]
    }
   ],
   "source": [
    "import sys\n",
    "\n",
    "# Create an object\n",
    "x = [1, 2, 3]\n",
    "\n",
    "# Get reference count\n",
    "ref_count = sys.getrefcount(x)\n",
    "\n",
    "print(\"Reference count of x:\", ref_count)"
   ]
  },
  {
   "cell_type": "markdown",
   "id": "9671ca4a",
   "metadata": {},
   "source": [
    "x itself holds one reference: The variable x is a name that refers to the list object [1, 2, 3]. This counts as one reference.\n",
    "\n",
    "The argument passed to sys.getrefcount(x) temporarily holds another reference: When you call sys.getrefcount(x), the object x is passed as an argument to the function. Python creates a temporary reference to the object to make it available inside the function. This temporary reference is what adds the second reference.\n",
    "\n",
    "#### Garbage collection\n",
    "Garbage collection is a memory management technique used in programming languages to automatically reclaim memory that is no longer accessible or in use by the application. It helps prevent memory leaks, optimize memory usage, and ensure efficient memory allocation for the program.\n",
    "\n",
    "**Generational Garbage Collection**\\\n",
    "When attempting to add an object to a reference counter, a cyclical reference or reference cycle is produced. Because the object’s reference counter could never reach 0 (due to cycle), a reference counter cannot destroy the object. Therefore, in situations like this, we employ the universal waste collector. It operates and releases the memory used. A Generational Garbage Collector can be found in the standard library’s gc module.\n",
    "\n",
    "A cyclical reference (or reference cycle) occurs when two or more objects refer to each other, forming a loop. This can prevent memory from being released properly because the objects involved in the cycle remain referenced by each other, even when they are no longer in use."
   ]
  },
  {
   "cell_type": "code",
   "execution_count": 1,
   "id": "9b0a0240",
   "metadata": {},
   "outputs": [],
   "source": [
    "class A:\n",
    "    def __init__(self):\n",
    "        self.other = None  # Placeholder for another object\n",
    "\n",
    "obj1 = A()\n",
    "obj2 = A()\n",
    "\n",
    "# Create a cycle\n",
    "obj1.other = obj2\n",
    "obj2.other = obj1"
   ]
  },
  {
   "cell_type": "markdown",
   "id": "2667062a",
   "metadata": {},
   "source": [
    "**Automatic Garbage Collection of Cycles**\\\n",
    "Because reference cycles take computational work to discover, garbage collection must be a scheduled activity. Python schedules garbage collection based upon a threshold of object allocations and object deallocations. When the number of allocations minus the number of deallocations is greater than the threshold number, the garbage collector is run. One can inspect the threshold for new objects (objects in Python known as generation 0 objects) by importing the gc module and asking for garbage collection thresholds: "
   ]
  },
  {
   "cell_type": "code",
   "execution_count": 27,
   "id": "70f2a528",
   "metadata": {},
   "outputs": [
    {
     "name": "stdout",
     "output_type": "stream",
     "text": [
      "Garbage collection thresholds: (700, 10, 10)\n"
     ]
    }
   ],
   "source": [
    "# loading gc\n",
    "import gc\n",
    "\n",
    "# get the current collection \n",
    "# thresholds as a tuple\n",
    "print(\"Garbage collection thresholds:\", gc.get_threshold())"
   ]
  },
  {
   "cell_type": "markdown",
   "id": "919f06fe",
   "metadata": {},
   "source": [
    "Here, the default threshold on the above system is 700. This means when the number of allocations vs. the number of deallocations is greater than 700 the automatic garbage collector will run. Thus any portion of your code which frees up large blocks of memory is a good candidate for running manual garbage collection. \n",
    "\n",
    "**Manual Garbage Collection**\\\n",
    "Invoking the garbage collector manually during the execution of a program can be a good idea for how to handle memory being consumed by reference cycles. \n",
    "\n",
    "The garbage collection can be invoked manually in the following way: "
   ]
  },
  {
   "cell_type": "code",
   "execution_count": 2,
   "id": "1c78c093",
   "metadata": {},
   "outputs": [
    {
     "name": "stdout",
     "output_type": "stream",
     "text": [
      "Garbage collector: collected 160 objects.\n"
     ]
    }
   ],
   "source": [
    "# Importing gc module\n",
    "import gc\n",
    "\n",
    "# Returns the number of\n",
    "# objects it has collected\n",
    "# and deallocated\n",
    "collected = gc.collect()\n",
    "\n",
    "# Prints Garbage collector \n",
    "# as 0 object\n",
    "print(\"Garbage collector: collected\", \"%d objects.\" % collected)"
   ]
  },
  {
   "cell_type": "markdown",
   "id": "a30b8d77",
   "metadata": {},
   "source": [
    "The collected count depends on the state of the Python runtime when the gc.collect() function is called. \n",
    "\n",
    "Common causes include:\n",
    "* Interpreter Overheads: Temporary objects and caches created internally by Python.\n",
    "* Previous Allocations: Objects from earlier code execution that are no longer in use.\n",
    "* Garbage Collection Thresholds: Some objects might have been left behind by the default automatic garbage collection since it runs only when thresholds are exceeded.\n",
    "* Running in an Interactive Environment: If you are running this code in an interactive environment like a Jupyter notebook or an IDE, additional objects are created behind the scenes to support the session, contributing to the count."
   ]
  },
  {
   "cell_type": "markdown",
   "id": "a8d1f83d",
   "metadata": {},
   "source": [
    "**Forced Garbage Collection**\\\n",
    "In Python, the garbage collector runs automatically and periodically to clean up objects that are no longer referenced and thus are eligible for garbage collection. However, in some cases, you may want to force garbage collection to occur immediately. You can do this using the gc. collect() function provided by the gc module."
   ]
  },
  {
   "cell_type": "code",
   "execution_count": 29,
   "id": "3ceb99a6",
   "metadata": {},
   "outputs": [
    {
     "data": {
      "text/plain": [
       "0"
      ]
     },
     "execution_count": 29,
     "metadata": {},
     "output_type": "execute_result"
    }
   ],
   "source": [
    "import gc\n",
    "\n",
    "# Create some objects\n",
    "obj1 = [1, 2, 3]\n",
    "obj2 = {\"a\": 1, \"b\": 2}\n",
    "obj3 = \"Hello, world!\"\n",
    "\n",
    "# Delete references to objects\n",
    "del obj1\n",
    "del obj2\n",
    "del obj3\n",
    "\n",
    "# Force a garbage collection\n",
    "gc.collect()"
   ]
  },
  {
   "cell_type": "markdown",
   "id": "6f007674",
   "metadata": {},
   "source": [
    "**Disabling Garbage Collection**\\\n",
    "In Python, the garbage collector is enabled by default and automatically runs periodically to clean up objects that are no longer referenced and thus are eligible for garbage collection. However, in some cases, you may want to disable the garbage collector to prevent it from running. You can do this using the gc.disable() function provided by the gc module."
   ]
  },
  {
   "cell_type": "code",
   "execution_count": 30,
   "id": "46ebaa58",
   "metadata": {},
   "outputs": [],
   "source": [
    "import gc\n",
    "\n",
    "# Disable the garbage collector\n",
    "gc.disable()\n",
    "\n",
    "# Create some objects\n",
    "obj1 = [1, 2, 3]\n",
    "obj2 = {\"a\": 1, \"b\": 2}\n",
    "obj3 = \"Hello, world!\"\n",
    "\n",
    "# Delete references to objects\n",
    "del obj1\n",
    "del obj2\n",
    "del obj3\n",
    "\n",
    "# The garbage collector is disabled, so it will not run"
   ]
  },
  {
   "cell_type": "code",
   "execution_count": 31,
   "id": "1b53d576",
   "metadata": {},
   "outputs": [],
   "source": [
    "import gc\n",
    "\n",
    "# Disable the garbage collector\n",
    "gc.disable()\n",
    "\n",
    "# Enable the garbage collector\n",
    "gc.enable()"
   ]
  },
  {
   "cell_type": "markdown",
   "id": "5ab5049a",
   "metadata": {},
   "source": [
    "### Static and Class Methods\n",
    "#### Static methods\n",
    "A static method is a method that belongs to a class but does not access or modify the class state or instance state.\n",
    "* A static method is part of the class and is called on the class directly (e.g., ClassName.method()).\n",
    "* It doesn't require an instance of the class to be called.\n",
    "* Class state refers to the data stored in class variables (variables shared across all instances of the class).\n",
    "* A static method cannot access or change these class-level variables because it doesn't receive the cls parameter.\n",
    "    * cls implies that method belongs to the class while self implies that the method is related to instance of the class,therefore member with cls is accessed by class name where as the one with self is accessed by instance of the class.\n",
    "* Instance state refers to the data stored in instance variables (attributes specific to each instance of the class).\n",
    "* A static method cannot access or change these instance-level variables because it doesn't receive the self parameter.\n",
    "* A static method behaves like a regular function, except that it is defined inside a class and has some conceptual association with that class.\n",
    "* It typically implements functionality that relates to the class conceptually but doesn't depend on or modify the class or instance's internal data.\n",
    "\n",
    "#### Class methods\n",
    "A class method is a method that operates on the class itself rather than on instances of the class.\n",
    "\n",
    "Takes cls as its first argument, which refers to the class (not the instance).\n",
    "\n",
    "| Feature                        | Static Method                                     | Class Method                               |\n",
    "|--------------------------------|--------------------------------------------------|-------------------------------------------|\n",
    "| **Decorator**                  | `@staticmethod`                                  | `@classmethod`                            |\n",
    "| **First Argument**             | Does not take `self` or `cls`                    | Takes `cls` as the first argument         |\n",
    "| **Access to Class/Instance Data** | Cannot access or modify class/instance data       | Can access and modify class-level data    |\n",
    "| **Use Case**                   | Utility functions, logic unrelated to class      | Factory methods, modifying class state    |\n",
    "\n",
    "\n",
    "A factory method is a design pattern used in object-oriented programming to create objects. It defines a method that is responsible for creating objects in a way that allows the subclass to alter the type of object that will be created. Rather than calling a constructor directly, the factory method provides a centralized point of object creation, which can be customized or extended by subclasses."
   ]
  },
  {
   "cell_type": "code",
   "execution_count": null,
   "id": "013a1c37",
   "metadata": {},
   "outputs": [],
   "source": [
    "class Counter:\n",
    "    count = 0\n",
    "\n",
    "    @classmethod\n",
    "    def increment(cls):\n",
    "        cls.count += 1\n",
    "\n",
    "    @staticmethod\n",
    "    def description():\n",
    "        print(\"This is a counter class.\")\n",
    "\n",
    "Counter.increment()\n",
    "Counter.description()  "
   ]
  },
  {
   "cell_type": "code",
   "execution_count": 5,
   "id": "b0edc7ef",
   "metadata": {},
   "outputs": [
    {
     "ename": "TypeError",
     "evalue": "MathOperations.add() missing 1 required positional argument: 'self'",
     "output_type": "error",
     "traceback": [
      "\u001b[1;31m---------------------------------------------------------------------------\u001b[0m",
      "\u001b[1;31mTypeError\u001b[0m                                 Traceback (most recent call last)",
      "Cell \u001b[1;32mIn[5], line 9\u001b[0m\n\u001b[0;32m      5\u001b[0m     \u001b[38;5;129m@staticmethod\u001b[39m\n\u001b[0;32m      6\u001b[0m     \u001b[38;5;28;01mdef\u001b[39;00m \u001b[38;5;21madd\u001b[39m(\u001b[38;5;28mself\u001b[39m):\n\u001b[0;32m      7\u001b[0m         \u001b[38;5;28;01mreturn\u001b[39;00m \u001b[38;5;28mself\u001b[39m\u001b[38;5;241m.\u001b[39ma \u001b[38;5;241m+\u001b[39m \u001b[38;5;28mself\u001b[39m\u001b[38;5;241m.\u001b[39mb\n\u001b[1;32m----> 9\u001b[0m \u001b[38;5;28mprint\u001b[39m(\u001b[43mMathOperations\u001b[49m\u001b[38;5;241;43m.\u001b[39;49m\u001b[43madd\u001b[49m\u001b[43m(\u001b[49m\u001b[43m)\u001b[49m)  \n",
      "\u001b[1;31mTypeError\u001b[0m: MathOperations.add() missing 1 required positional argument: 'self'"
     ]
    }
   ],
   "source": [
    "class MathOperations:\n",
    "    def __init__(self):\n",
    "        a = 2\n",
    "        b = 3\n",
    "    @staticmethod\n",
    "    def add(self):\n",
    "        return self.a + self.b\n",
    "\n",
    "print(MathOperations.add())  "
   ]
  },
  {
   "cell_type": "markdown",
   "id": "148b8c82",
   "metadata": {},
   "source": [
    "The error occurs because the add method is incorrectly defined as a @staticmethod but still expects self as an argument.\n",
    "\n"
   ]
  },
  {
   "cell_type": "code",
   "execution_count": 7,
   "id": "068c4213",
   "metadata": {},
   "outputs": [
    {
     "ename": "NameError",
     "evalue": "name 'a' is not defined",
     "output_type": "error",
     "traceback": [
      "\u001b[1;31m---------------------------------------------------------------------------\u001b[0m",
      "\u001b[1;31mNameError\u001b[0m                                 Traceback (most recent call last)",
      "Cell \u001b[1;32mIn[7], line 9\u001b[0m\n\u001b[0;32m      5\u001b[0m     \u001b[38;5;129m@staticmethod\u001b[39m\n\u001b[0;32m      6\u001b[0m     \u001b[38;5;28;01mdef\u001b[39;00m \u001b[38;5;21madd\u001b[39m():\n\u001b[0;32m      7\u001b[0m         \u001b[38;5;28;01mreturn\u001b[39;00m a \u001b[38;5;241m+\u001b[39m b\n\u001b[1;32m----> 9\u001b[0m \u001b[38;5;28mprint\u001b[39m(\u001b[43mMathOperations\u001b[49m\u001b[38;5;241;43m.\u001b[39;49m\u001b[43madd\u001b[49m\u001b[43m(\u001b[49m\u001b[43m)\u001b[49m)  \n",
      "Cell \u001b[1;32mIn[7], line 7\u001b[0m, in \u001b[0;36mMathOperations.add\u001b[1;34m()\u001b[0m\n\u001b[0;32m      5\u001b[0m \u001b[38;5;129m@staticmethod\u001b[39m\n\u001b[0;32m      6\u001b[0m \u001b[38;5;28;01mdef\u001b[39;00m \u001b[38;5;21madd\u001b[39m():\n\u001b[1;32m----> 7\u001b[0m     \u001b[38;5;28;01mreturn\u001b[39;00m \u001b[43ma\u001b[49m \u001b[38;5;241m+\u001b[39m b\n",
      "\u001b[1;31mNameError\u001b[0m: name 'a' is not defined"
     ]
    }
   ],
   "source": [
    "class MathOperations:\n",
    "    def __init__(self):\n",
    "        a = 2\n",
    "        b = 3\n",
    "    @staticmethod\n",
    "    def add():\n",
    "        return a + b\n",
    "\n",
    "print(MathOperations.add())  "
   ]
  },
  {
   "cell_type": "code",
   "execution_count": null,
   "id": "db3d5bc2",
   "metadata": {},
   "outputs": [],
   "source": [
    "# Python Special Methods\n",
    "class Vector:\n",
    "    def __init__(self, x, y):\n",
    "        self.x = x\n",
    "        self.y = y\n",
    "\n",
    "    def __str__(self):\n",
    "        return f\"Vector({self.x}, {self.y})\"\n",
    "\n",
    "v = Vector(3, 4)\n",
    "print(v)  "
   ]
  },
  {
   "cell_type": "code",
   "execution_count": null,
   "id": "e296da34",
   "metadata": {},
   "outputs": [],
   "source": [
    "class Book:\n",
    "    def __init__(self, title, author):\n",
    "        self.title = title\n",
    "        self.author = author\n",
    "        self.is_issued = False  \n",
    "\n",
    "    def __str__(self):\n",
    "        return f\"Book: {self.title}, Author: {self.author}, Issued: {self.is_issued}\"\n",
    "\n",
    "class Member:\n",
    "    def __init__(self, member_id, name):\n",
    "        self.member_id = member_id\n",
    "        self.name = name\n",
    "        self.issued_books = []  \n",
    "\n",
    "    def __str__(self):\n",
    "        return f\"Member ID: {self.member_id}, Name: {self.name}, Issued Books: {len(self.issued_books)}\"\n",
    "\n",
    "class Librarian:\n",
    "    def __init__(self, name):\n",
    "        self.name = name\n",
    "\n",
    "    def issue_book(self, book, member):\n",
    "        if not book.is_issued:\n",
    "            book.is_issued = True\n",
    "            member.issued_books.append(book)\n",
    "            print(f\"{book.title} has been issued to {member.name}.\")\n",
    "        else:\n",
    "            print(f\"{book.title} is already issued to someone else.\")\n",
    "\n",
    "    def return_book(self, book, member):\n",
    "        if book in member.issued_books:\n",
    "            book.is_issued = False\n",
    "            member.issued_books.remove(book)\n",
    "            print(f\"{book.title} has been returned by {member.name}.\")\n",
    "        else:\n",
    "            print(f\"{book.title} was not issued to {member.name}.\")\n",
    "\n",
    "\n",
    "book1 = Book(\"1984\", \"George Orwell\")\n",
    "book2 = Book(\"To Kill a Mockingbird\", \"Harper Lee\")\n",
    "\n",
    "member1 = Member(101, \"Alice\")\n",
    "member2 = Member(102, \"Bob\")\n",
    "\n",
    "librarian = Librarian(\"Mr. Smith\")\n",
    "\n",
    "librarian.issue_book(book1, member1)  \n",
    "librarian.issue_book(book2, member2)  \n",
    "librarian.issue_book(book1, member2)  \n",
    "\n",
    "librarian.return_book(book1, member1)  \n",
    "librarian.return_book(book2, member1)  "
   ]
  },
  {
   "cell_type": "code",
   "execution_count": null,
   "id": "3d1e7e4c",
   "metadata": {},
   "outputs": [],
   "source": []
  }
 ],
 "metadata": {
  "kernelspec": {
   "display_name": "Python 3 (ipykernel)",
   "language": "python",
   "name": "python3"
  },
  "language_info": {
   "codemirror_mode": {
    "name": "ipython",
    "version": 3
   },
   "file_extension": ".py",
   "mimetype": "text/x-python",
   "name": "python",
   "nbconvert_exporter": "python",
   "pygments_lexer": "ipython3",
   "version": "3.11.1"
  }
 },
 "nbformat": 4,
 "nbformat_minor": 5
}
