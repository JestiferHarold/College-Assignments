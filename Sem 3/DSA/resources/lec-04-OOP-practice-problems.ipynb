{
 "cells": [
  {
   "cell_type": "markdown",
   "id": "9f06c336",
   "metadata": {},
   "source": [
    "Create a Student class that encapsulates the student's name, age, and grades. Provide methods to get and set the grades.\n",
    "\n",
    "Define the Class Structure:\n",
    "* Create a class named Student.\n",
    "    * Define an \\_\\_init\\_\\_ method to initialize the instance variables name, age, and grades.\n",
    "    * grades is a list with default value None\n",
    "    * Use private attributes to encapsulate the data.\n",
    "\n",
    "* Write a Method to Set Grades:\n",
    "    * Define a set_grade method that takes a grade as a parameter and appends it to the grades list.\n",
    "\n",
    "* Write a Method to Get Grades:\n",
    "    * Define a get_grades method to return the list of grades."
   ]
  },
  {
   "cell_type": "code",
   "execution_count": 2,
   "id": "9b5b44cf",
   "metadata": {},
   "outputs": [
    {
     "name": "stdout",
     "output_type": "stream",
     "text": [
      "[90, 85]\n"
     ]
    }
   ],
   "source": [
    "class Student:\n",
    "    def __init__(self, name, age, grades=None):\n",
    "        self.__name = name\n",
    "        self.__age = age\n",
    "        self.__grades = grades if grades else []\n",
    "\n",
    "    def set_grade(self, grade):\n",
    "        self.__grades.append(grade)\n",
    "\n",
    "    def get_grades(self):\n",
    "        return self.__grades\n",
    "\n",
    "student = Student(\"Cole\", 21)\n",
    "student.set_grade(90)\n",
    "student.set_grade(85)\n",
    "print(student.get_grades())  "
   ]
  },
  {
   "cell_type": "markdown",
   "id": "ce52d099",
   "metadata": {},
   "source": [
    "Create a Car class with a private attribute speed. Implement methods to accelerate and decelerate the car.\n",
    "* Create a private instance variable speed and set its initial value to 0\n",
    "* Define a method to increase the speed by a given increment.\n",
    "* Define a method to decrease the speed by a given decrement."
   ]
  },
  {
   "cell_type": "code",
   "execution_count": 3,
   "id": "53dd3225",
   "metadata": {},
   "outputs": [
    {
     "name": "stdout",
     "output_type": "stream",
     "text": [
      "30\n"
     ]
    }
   ],
   "source": [
    "class Car:\n",
    "    def __init__(self):\n",
    "        self.__speed = 0\n",
    "\n",
    "    def accelerate(self, increment):\n",
    "        self.__speed += increment\n",
    "\n",
    "    def decelerate(self, decrement):\n",
    "        if self.__speed - decrement >= 0:\n",
    "            self.__speed -= decrement\n",
    "\n",
    "    def get_speed(self):\n",
    "        return self.__speed\n",
    "\n",
    "car = Car()\n",
    "car.accelerate(50)\n",
    "car.decelerate(20)\n",
    "print(car.get_speed())  "
   ]
  },
  {
   "cell_type": "markdown",
   "id": "762573e6",
   "metadata": {},
   "source": [
    "Create a Shape class with a method area. Derive Circle, Rectangle, and Triangle classes from it. Implement different methods of calculating the area.\n",
    "\n",
    "* import math library to use $\\pi$ in the code. Syntax: import math; p = math.py\n",
    "* Define an abstract method area() using pass as its implementation. This serves as a placeholder for derived classes to implement their own area method."
   ]
  },
  {
   "cell_type": "code",
   "execution_count": 3,
   "id": "9330c884",
   "metadata": {},
   "outputs": [
    {
     "name": "stdout",
     "output_type": "stream",
     "text": [
      "78.53981633974483\n",
      "24\n",
      "6.0\n"
     ]
    }
   ],
   "source": [
    "import math\n",
    "\n",
    "class Shape:\n",
    "    def area(self):\n",
    "        pass\n",
    "\n",
    "class Circle(Shape):\n",
    "    def __init__(self, radius):\n",
    "        self.radius = radius\n",
    "\n",
    "    def area(self):\n",
    "        return math.pi * self.radius ** 2\n",
    "\n",
    "class Rectangle(Shape):\n",
    "    def __init__(self, width, height):\n",
    "        self.width = width\n",
    "        self.height = height\n",
    "\n",
    "    def area(self):\n",
    "        return self.width * self.height\n",
    "\n",
    "class Triangle(Shape):\n",
    "    def __init__(self, base, height):\n",
    "        self.base = base\n",
    "        self.height = height\n",
    "\n",
    "    def area(self):\n",
    "        return 0.5 * self.base * self.height\n",
    "\n",
    "\n",
    "circle = Circle(5)\n",
    "rectangle = Rectangle(4, 6)\n",
    "triangle = Triangle(3, 4)\n",
    "print(circle.area())  \n",
    "print(rectangle.area())  \n",
    "print(triangle.area())  "
   ]
  },
  {
   "cell_type": "markdown",
   "id": "f905f25d",
   "metadata": {},
   "source": [
    "Create a Ticket class that encapsulates the ticket price and booking status. Implement methods to book and cancel a ticket.\n",
    "* Initialize the ticket with a private attribute price to store its price.\n",
    "* Initialize a private attribute is_booked to track the booking status. Set its initial value to False.\n",
    "* Check if the ticket is already booked. If not booked, mark the corresponding private variable as booked and return a confirmation message with the ticket price. If already booked, return a message indicating that the ticket is already booked.\n",
    "* In the cancel method, reset the status of the private variable and return a cancellation confirmation message. If not booked, return a message indicating there’s no ticket to cancel."
   ]
  },
  {
   "cell_type": "code",
   "execution_count": 5,
   "id": "9cc1aca9",
   "metadata": {},
   "outputs": [
    {
     "name": "stdout",
     "output_type": "stream",
     "text": [
      "Ticket booked for $50\n",
      "Ticket canceled\n"
     ]
    }
   ],
   "source": [
    "class Ticket:\n",
    "    def __init__(self, price):\n",
    "        self.__price = price\n",
    "        self.__is_booked = False\n",
    "\n",
    "    def book(self):\n",
    "        if not self.__is_booked:\n",
    "            self.__is_booked = True\n",
    "            return f\"Ticket booked for ${self.__price}\"\n",
    "        return \"Ticket already booked\"\n",
    "\n",
    "    def cancel(self):\n",
    "        if self.__is_booked:\n",
    "            self.__is_booked = False\n",
    "            return \"Ticket canceled\"\n",
    "        return \"No ticket to cancel\"\n",
    "\n",
    "\n",
    "ticket = Ticket(50)\n",
    "print(ticket.book())  \n",
    "print(ticket.cancel())  "
   ]
  },
  {
   "cell_type": "markdown",
   "id": "19819d06",
   "metadata": {},
   "source": [
    "Create a BankAccount class with methods for deposit and withdrawal. Derive a SavingsAccount class that adds interest to the balance.\n",
    "\n",
    "* BankAccount class\n",
    "    * Define constructor that initializes the account's balance attribute.\n",
    "    * Implement a deposit method to add a specified amount to the balance.\n",
    "    * Implement a withdraw method to subtract a specified amount from the balance if the amount is less than or equal to the balance.\n",
    "* SavingsAccount class\n",
    "    * Extend the constructor to initialize the balance attribute.\n",
    "    * Add a new attribute interest_rate to store the savings account's interest rate.\n",
    "    * Define an apply_interest method that calculates the interest based on the balance and interest_rate, then adds it to the balance."
   ]
  },
  {
   "cell_type": "code",
   "execution_count": 6,
   "id": "1e2578af",
   "metadata": {},
   "outputs": [
    {
     "name": "stdout",
     "output_type": "stream",
     "text": [
      "1050.0\n"
     ]
    }
   ],
   "source": [
    "class BankAccount:\n",
    "    def __init__(self, balance):\n",
    "        self.balance = balance\n",
    "\n",
    "    def deposit(self, amount):\n",
    "        self.balance += amount\n",
    "\n",
    "    def withdraw(self, amount):\n",
    "        if amount <= self.balance:\n",
    "            self.balance -= amount\n",
    "\n",
    "class SavingsAccount(BankAccount):\n",
    "    def __init__(self, balance, interest_rate):\n",
    "        super().__init__(balance)\n",
    "        self.interest_rate = interest_rate\n",
    "\n",
    "    def apply_interest(self):\n",
    "        self.balance += self.balance * self.interest_rate\n",
    "\n",
    "\n",
    "account = SavingsAccount(1000, 0.05)\n",
    "account.apply_interest()\n",
    "print(account.balance)  "
   ]
  },
  {
   "cell_type": "markdown",
   "id": "c063f14c",
   "metadata": {},
   "source": [
    "Create a Matrix class with a method eigenvalues. Derive DiagonalMatrix and SymmetricMatrix classes, each implementing their own eigenvalue calculation."
   ]
  },
  {
   "cell_type": "code",
   "execution_count": 7,
   "id": "2c06bde0",
   "metadata": {},
   "outputs": [
    {
     "name": "stdout",
     "output_type": "stream",
     "text": [
      "[1 2 3]\n",
      "[ 3. -1.]\n",
      "True\n",
      "False\n"
     ]
    }
   ],
   "source": [
    "import numpy as np\n",
    "\n",
    "class Matrix:\n",
    "    def __init__(self, values):\n",
    "        self.__matrix = np.array(values)\n",
    "\n",
    "    def eigenvalues(self):\n",
    "        pass\n",
    "\n",
    "    def is_symmetric(self):\n",
    "        return np.array_equal(self.__matrix, self.__matrix.T)\n",
    "\n",
    "    def get_matrix(self):\n",
    "        return self.__matrix\n",
    "\n",
    "class DiagonalMatrix(Matrix):\n",
    "    def __init__(self, diagonal_values):\n",
    "        super().__init__(np.diag(diagonal_values))\n",
    "\n",
    "    def eigenvalues(self):\n",
    "        return np.diagonal(self.get_matrix())\n",
    "\n",
    "class SymmetricMatrix(Matrix):\n",
    "    def __init__(self, values):\n",
    "        super().__init__(values)\n",
    "\n",
    "    def eigenvalues(self):\n",
    "        return np.linalg.eigvals(self.get_matrix())\n",
    "\n",
    "diag_matrix = DiagonalMatrix([1, 2, 3])\n",
    "sym_matrix = SymmetricMatrix([[1, 2], [2, 1]])\n",
    "non_sym_matrix = SymmetricMatrix([[1, 2], [3, 1]])\n",
    "\n",
    "print(diag_matrix.eigenvalues())  \n",
    "print(sym_matrix.eigenvalues())  \n",
    "print(sym_matrix.is_symmetric())  \n",
    "print(non_sym_matrix.is_symmetric())  "
   ]
  },
  {
   "cell_type": "markdown",
   "id": "e7c0cf3e",
   "metadata": {},
   "source": [
    "Create a Matrix class that encapsulates the matrix. Implement a method to calculate the trace of the matrix."
   ]
  },
  {
   "cell_type": "code",
   "execution_count": 8,
   "id": "f67c48ce",
   "metadata": {},
   "outputs": [
    {
     "name": "stdout",
     "output_type": "stream",
     "text": [
      "5\n"
     ]
    }
   ],
   "source": [
    "import numpy as np\n",
    "\n",
    "class Matrix:\n",
    "    def __init__(self, values):\n",
    "        self.__matrix = np.array(values)\n",
    "\n",
    "    def trace(self):\n",
    "        return np.trace(self.__matrix)\n",
    "\n",
    "    def get_matrix(self):\n",
    "        return self.__matrix\n",
    "\n",
    "m = Matrix([[1, 2], [3, 4]])\n",
    "print(m.trace())  "
   ]
  },
  {
   "cell_type": "markdown",
   "id": "8486344c",
   "metadata": {},
   "source": [
    "Create a Regression class with a method fit. Derive LinearRegression and PolynomialRegression classes to implement their own fitting logic."
   ]
  },
  {
   "cell_type": "code",
   "execution_count": 9,
   "id": "35e45867",
   "metadata": {},
   "outputs": [
    {
     "name": "stdout",
     "output_type": "stream",
     "text": [
      "[1.7]\n",
      "[1.25 0.45 0.25]\n"
     ]
    }
   ],
   "source": [
    "import numpy as np\n",
    "\n",
    "class Regression:\n",
    "    def fit(self, X, y):\n",
    "        pass\n",
    "\n",
    "class LinearRegression(Regression):\n",
    "    def fit(self, X, y):\n",
    "        return np.linalg.lstsq(X, y, rcond=None)[0]\n",
    "\n",
    "class PolynomialRegression(Regression):\n",
    "    def __init__(self, degree):\n",
    "        self.degree = degree\n",
    "\n",
    "    def fit(self, X, y):\n",
    "        # Generate the design matrix for polynomial regression\n",
    "        X_poly = np.hstack([X**i for i in range(self.degree + 1)])\n",
    "        return np.linalg.lstsq(X_poly, y, rcond=None)[0]\n",
    "\n",
    "# Test\n",
    "X = np.array([1, 2, 3, 4]).reshape(-1, 1)  \n",
    "y = np.array([2, 3, 5, 7])  \n",
    "\n",
    "linear_model = LinearRegression()\n",
    "poly_model = PolynomialRegression(degree=2)  \n",
    "\n",
    "print(linear_model.fit(X, y))  \n",
    "print(poly_model.fit(X, y))  "
   ]
  },
  {
   "cell_type": "markdown",
   "id": "4f64d4a3",
   "metadata": {},
   "source": [
    "Create a Matrix class with a method for Singular Value Decomposition (SVD). Derive RectangularMatrix and SquareMatrix classes to implement SVD."
   ]
  },
  {
   "cell_type": "code",
   "execution_count": 10,
   "id": "f50868ec",
   "metadata": {},
   "outputs": [
    {
     "name": "stdout",
     "output_type": "stream",
     "text": [
      "(array([[-0.40455358, -0.9145143 ],\n",
      "       [-0.9145143 ,  0.40455358]]), array([5.4649857 , 0.36596619]), array([[-0.57604844, -0.81741556],\n",
      "       [ 0.81741556, -0.57604844]]))\n",
      "(array([[-0.40455358, -0.9145143 ],\n",
      "       [-0.9145143 ,  0.40455358]]), array([5.4649857 , 0.36596619]), array([[-0.57604844, -0.81741556],\n",
      "       [ 0.81741556, -0.57604844]]))\n"
     ]
    }
   ],
   "source": [
    "import numpy as np\n",
    "\n",
    "class Matrix:\n",
    "    def svd(self):\n",
    "        pass\n",
    "\n",
    "class RectangularMatrix(Matrix):\n",
    "    def __init__(self, values):\n",
    "        self.__matrix = np.array(values)\n",
    "\n",
    "    def svd(self):\n",
    "        return np.linalg.svd(self.__matrix)\n",
    "\n",
    "class SquareMatrix(Matrix):\n",
    "    def __init__(self, values):\n",
    "        self.__matrix = np.array(values)\n",
    "\n",
    "    def svd(self):\n",
    "        return np.linalg.svd(self.__matrix)\n",
    "\n",
    "rect_matrix = RectangularMatrix([[1, 2], [3, 4]])\n",
    "square_matrix = SquareMatrix([[1, 2], [3, 4]])\n",
    "print(rect_matrix.svd())  \n",
    "print(square_matrix.svd()) "
   ]
  },
  {
   "cell_type": "markdown",
   "id": "4ae3cfa9",
   "metadata": {},
   "source": [
    "Using inheritance and polymorphism to solve a system of linear equations for different matrix types without using in-built functions"
   ]
  },
  {
   "cell_type": "code",
   "execution_count": 11,
   "id": "400ce3d1",
   "metadata": {},
   "outputs": [
    {
     "name": "stdout",
     "output_type": "stream",
     "text": [
      "Solution to the system of equations: [ 3.66666667 -0.58333333 -1.25      ]\n"
     ]
    }
   ],
   "source": [
    "import numpy as np\n",
    "\n",
    "class GaussianElimination:\n",
    "    def __init__(self, A, b):\n",
    "        self.A = np.array(A, float)  \n",
    "        self.b = np.array(b, float)  \n",
    "        self.n = len(self.b) \n",
    "    \n",
    "    def forward_elimination(self):\n",
    "        for i in range(self.n):\n",
    "            max_row = np.argmax(abs(self.A[i:, i])) + i\n",
    "            self.A[[i, max_row]] = self.A[[max_row, i]]\n",
    "            self.b[i], self.b[max_row] = self.b[max_row], self.b[i]\n",
    "\n",
    "            for j in range(i + 1, self.n):\n",
    "                if self.A[j, i] != 0:  \n",
    "                    factor = self.A[j, i] / self.A[i, i]\n",
    "                    self.A[j, i:] -= factor * self.A[i, i:]\n",
    "                    self.b[j] -= factor * self.b[i]\n",
    "\n",
    "    def back_substitution(self):\n",
    "        x = np.zeros(self.n)\n",
    "        for i in range(self.n - 1, -1, -1):\n",
    "            x[i] = (self.b[i] - np.dot(self.A[i, i + 1:], x[i + 1:])) / self.A[i, i]\n",
    "        return x\n",
    "\n",
    "    def solve(self):\n",
    "        self.forward_elimination()\n",
    "        return self.back_substitution()\n",
    "\n",
    "A = [[2, 1, -1], [3, 3, 9], [3, 3, 5]]\n",
    "b = [8, -2, 3]\n",
    "\n",
    "gaussian = GaussianElimination(A, b)\n",
    "solution = gaussian.solve()\n",
    "\n",
    "print(\"Solution to the system of equations:\", solution)"
   ]
  },
  {
   "cell_type": "markdown",
   "id": "69ba05df",
   "metadata": {},
   "source": [
    "Linear Regression (Encapsulation and Inheritance) without using in-built function"
   ]
  },
  {
   "cell_type": "code",
   "execution_count": 12,
   "id": "ed7653e7",
   "metadata": {},
   "outputs": [
    {
     "name": "stdout",
     "output_type": "stream",
     "text": [
      "Learned parameters (theta): [0.  1.7]\n",
      "Predictions: [1.7 3.4 5.1 6.8]\n"
     ]
    }
   ],
   "source": [
    "import numpy as np\n",
    "\n",
    "class Regression:\n",
    "    def fit(self, X, y):\n",
    "        pass\n",
    "\n",
    "class LinearRegression(Regression):\n",
    "    def __init__(self):\n",
    "        self.theta = None    \n",
    "        X_b = self.add_bias(X)\n",
    "        X_T = self.transpose(X_b)\n",
    "        X_T_X = self.matrix_multiply(X_T, X_b)\n",
    "        X_T_X_inv = self.inverse(X_T_X)\n",
    "        X_T_y = self.matrix_multiply(X_T, y)\n",
    "        self.theta = self.matrix_multiply(X_T_X_inv, X_T_y)\n",
    "        \n",
    "    def predict(self, X):\n",
    "        X_b = self.add_bias(X)\n",
    "        return self.matrix_multiply(X_b, self.theta)\n",
    "    \n",
    "    def add_bias(self, X):\n",
    "        return np.c_[np.ones((X.shape[0], 1)), X]\n",
    "    \n",
    "    def transpose(self, matrix):\n",
    "        return np.array(matrix).T\n",
    "    \n",
    "    def matrix_multiply(self, A, B):\n",
    "        return np.dot(A, B)\n",
    "    \n",
    "    def inverse(self, matrix):\n",
    "        return np.linalg.inv(matrix)\n",
    "    \n",
    "\n",
    "X = np.array([[1], [2], [3], [4]])  \n",
    "y = np.array([2, 3, 5, 7])          \n",
    "\n",
    "linear_model = LinearRegression()\n",
    "linear_model.fit(X, y)\n",
    "print(\"Learned parameters (theta):\", linear_model.theta)\n",
    "predictions = linear_model.predict(X)\n",
    "print(\"Predictions:\", predictions)"
   ]
  },
  {
   "cell_type": "markdown",
   "id": "137b2586",
   "metadata": {},
   "source": [
    " LU Decomposition (Encapsulation and Polymorphism) without using inbuilt functions"
   ]
  },
  {
   "cell_type": "code",
   "execution_count": 13,
   "id": "104cb609",
   "metadata": {},
   "outputs": [
    {
     "name": "stdout",
     "output_type": "stream",
     "text": [
      "L (Lower Triangular Matrix):\n",
      " [[1.  0. ]\n",
      " [1.5 1. ]]\n",
      "U (Upper Triangular Matrix):\n",
      " [[ 4.   3. ]\n",
      " [ 0.  -1.5]]\n",
      "\n",
      "L (Lower Triangular Matrix) for Symmetric Matrix:\n",
      " [[0.  0. ]\n",
      " [0.5 0. ]]\n",
      "U (Upper Triangular Matrix) for Symmetric Matrix:\n",
      " [[2.        1.       ]\n",
      " [0.        1.6583124]]\n"
     ]
    }
   ],
   "source": [
    "import numpy as np\n",
    "\n",
    "class MatrixDecomposition:\n",
    "    def decompose(self, A):\n",
    "        pass\n",
    "\n",
    "class LUDecomposition(MatrixDecomposition):\n",
    "    def __init__(self):\n",
    "        self.L = None\n",
    "        self.U = None\n",
    "    \n",
    "    def decompose(self, A):\n",
    "        A = np.array(A, float)  \n",
    "        n = A.shape[0]\n",
    "        \n",
    "        self.L = np.eye(n)\n",
    "        self.U = A.copy()\n",
    "\n",
    "        for i in range(n):\n",
    "            for j in range(i + 1, n):\n",
    "                if self.U[j, i] != 0: \n",
    "                    factor = self.U[j, i] / self.U[i, i]\n",
    "                    self.L[j, i] = factor\n",
    "                    self.U[j, i:] -= factor * self.U[i, i:]\n",
    "        \n",
    "        return self.L, self.U\n",
    "\n",
    "class SymmetricLUDecomposition(LUDecomposition):\n",
    "    def decompose(self, A):\n",
    "        A = np.array(A, float)\n",
    "        n = A.shape[0]\n",
    "        \n",
    "        self.L = np.zeros((n, n))\n",
    "        self.U = np.zeros((n, n))\n",
    "        \n",
    "        for i in range(n):\n",
    "            for j in range(i, n):\n",
    "                if i == j:\n",
    "                    self.U[i, i] = np.sqrt(A[i, i] - np.dot(self.L[i, :i], self.L[i, :i]))\n",
    "                else:\n",
    "                    self.L[j, i] = (A[j, i] - np.dot(self.L[j, :i], self.L[i, :i])) / self.U[i, i]\n",
    "                    self.U[i, j] = A[i, j] - np.dot(self.L[i, :i], self.L[j, :i])\n",
    "        \n",
    "        return self.L, self.U\n",
    "\n",
    "A = np.array([[4, 3], [6, 3]])\n",
    "lu_decomp = LUDecomposition()\n",
    "L, U = lu_decomp.decompose(A)\n",
    "\n",
    "print(\"L (Lower Triangular Matrix):\\n\", L)\n",
    "print(\"U (Upper Triangular Matrix):\\n\", U)\n",
    "\n",
    "A_symmetric = np.array([[4, 1], [1, 3]])\n",
    "symmetric_lu_decomp = SymmetricLUDecomposition()\n",
    "L_sym, U_sym = symmetric_lu_decomp.decompose(A_symmetric)\n",
    "print(\"\\nL (Lower Triangular Matrix) for Symmetric Matrix:\\n\", L_sym)\n",
    "print(\"U (Upper Triangular Matrix) for Symmetric Matrix:\\n\", U_sym)"
   ]
  },
  {
   "cell_type": "markdown",
   "id": "6d69b7f6",
   "metadata": {},
   "source": [
    "Computing the Rank of a Matrix (without inbuilt functions)"
   ]
  },
  {
   "cell_type": "code",
   "execution_count": 14,
   "id": "d6d682ce",
   "metadata": {},
   "outputs": [
    {
     "name": "stdout",
     "output_type": "stream",
     "text": [
      "Rank of the matrix: 2\n"
     ]
    }
   ],
   "source": [
    "import numpy as np\n",
    "\n",
    "class MatrixOperations:\n",
    "    def rank(self, matrix):\n",
    "        pass\n",
    "\n",
    "class RankMatrix(MatrixOperations):\n",
    "    def __init__(self):\n",
    "        self.matrix = None\n",
    "\n",
    "    def rank(self, matrix):\n",
    "        matrix = np.array(matrix, float)  \n",
    "        m, n = matrix.shape\n",
    "        \n",
    "        row = 0\n",
    "        for col in range(n):\n",
    "            if row >= m:\n",
    "                break\n",
    "\n",
    "            pivot_row = row\n",
    "            while pivot_row < m and matrix[pivot_row, col] == 0:\n",
    "                pivot_row += 1\n",
    "\n",
    "            if pivot_row == m:  \n",
    "                continue\n",
    "            \n",
    "            matrix[[row, pivot_row]] = matrix[[pivot_row, row]]\n",
    "\n",
    "            for i in range(row + 1, m):\n",
    "                if matrix[i, col] != 0:\n",
    "                    factor = matrix[i, col] / matrix[row, col]\n",
    "                    matrix[i, col:] -= factor * matrix[row, col:]\n",
    "\n",
    "            row += 1\n",
    "\n",
    "        rank = 0\n",
    "        for i in range(m):\n",
    "            if any(matrix[i, j] != 0 for j in range(n)):  \n",
    "                rank += 1\n",
    "        return rank\n",
    "\n",
    "\n",
    "A = np.array([[4, 3], [6, 3], [2, 2]])  \n",
    "rank_matrix = RankMatrix()\n",
    "rank = rank_matrix.rank(A)\n",
    "print(\"Rank of the matrix:\", rank)"
   ]
  },
  {
   "cell_type": "code",
   "execution_count": null,
   "id": "011ba2b3",
   "metadata": {},
   "outputs": [],
   "source": []
  },
  {
   "cell_type": "code",
   "execution_count": null,
   "id": "3f246780",
   "metadata": {},
   "outputs": [],
   "source": []
  }
 ],
 "metadata": {
  "kernelspec": {
   "display_name": "Python 3 (ipykernel)",
   "language": "python",
   "name": "python3"
  },
  "language_info": {
   "codemirror_mode": {
    "name": "ipython",
    "version": 3
   },
   "file_extension": ".py",
   "mimetype": "text/x-python",
   "name": "python",
   "nbconvert_exporter": "python",
   "pygments_lexer": "ipython3",
   "version": "3.11.1"
  }
 },
 "nbformat": 4,
 "nbformat_minor": 5
}
